{
 "cells": [
  {
   "cell_type": "markdown",
   "metadata": {
    "collapsed": true
   },
   "source": [
    "# 数据预处理"
   ]
  },
  {
   "cell_type": "code",
   "execution_count": 94,
   "metadata": {},
   "outputs": [],
   "source": [
    "import numpy as np\n",
    "import pandas as pd\n",
    "import random"
   ]
  },
  {
   "cell_type": "markdown",
   "metadata": {},
   "source": [
    "## 1. 导入数据"
   ]
  },
  {
   "cell_type": "code",
   "execution_count": 95,
   "metadata": {},
   "outputs": [
    {
     "data": {
      "text/html": [
       "<div>\n",
       "<style scoped>\n",
       "    .dataframe tbody tr th:only-of-type {\n",
       "        vertical-align: middle;\n",
       "    }\n",
       "\n",
       "    .dataframe tbody tr th {\n",
       "        vertical-align: top;\n",
       "    }\n",
       "\n",
       "    .dataframe thead th {\n",
       "        text-align: right;\n",
       "    }\n",
       "</style>\n",
       "<table border=\"1\" class=\"dataframe\">\n",
       "  <thead>\n",
       "    <tr style=\"text-align: right;\">\n",
       "      <th></th>\n",
       "      <th>日期</th>\n",
       "      <th>星期</th>\n",
       "      <th>最高温度</th>\n",
       "      <th>最低温度</th>\n",
       "      <th>天气</th>\n",
       "      <th>风向风力</th>\n",
       "    </tr>\n",
       "  </thead>\n",
       "  <tbody>\n",
       "    <tr>\n",
       "      <th>0</th>\n",
       "      <td>2014-01-01</td>\n",
       "      <td>星期三</td>\n",
       "      <td>10℃</td>\n",
       "      <td>4℃</td>\n",
       "      <td>多云</td>\n",
       "      <td>微风 小于3级</td>\n",
       "    </tr>\n",
       "    <tr>\n",
       "      <th>1</th>\n",
       "      <td>2014-01-02</td>\n",
       "      <td>星期四</td>\n",
       "      <td>8℃</td>\n",
       "      <td>6℃</td>\n",
       "      <td>阴转小雨</td>\n",
       "      <td>微风 小于3级</td>\n",
       "    </tr>\n",
       "    <tr>\n",
       "      <th>2</th>\n",
       "      <td>2014-01-03</td>\n",
       "      <td>星期五</td>\n",
       "      <td>9℃</td>\n",
       "      <td>5℃</td>\n",
       "      <td>阴</td>\n",
       "      <td>微风 小于3级</td>\n",
       "    </tr>\n",
       "    <tr>\n",
       "      <th>3</th>\n",
       "      <td>2014-01-04</td>\n",
       "      <td>星期六</td>\n",
       "      <td>13℃</td>\n",
       "      <td>5℃</td>\n",
       "      <td>晴</td>\n",
       "      <td>微风 小于3级</td>\n",
       "    </tr>\n",
       "    <tr>\n",
       "      <th>4</th>\n",
       "      <td>2014-01-05</td>\n",
       "      <td>星期日</td>\n",
       "      <td>10℃</td>\n",
       "      <td>6℃</td>\n",
       "      <td>多云转小雨</td>\n",
       "      <td>微风 小于3级</td>\n",
       "    </tr>\n",
       "  </tbody>\n",
       "</table>\n",
       "</div>"
      ],
      "text/plain": [
       "           日期   星期 最高温度 最低温度     天气     风向风力\n",
       "0  2014-01-01  星期三  10℃   4℃     多云  微风 小于3级\n",
       "1  2014-01-02  星期四   8℃   6℃   阴转小雨  微风 小于3级\n",
       "2  2014-01-03  星期五   9℃   5℃      阴  微风 小于3级\n",
       "3  2014-01-04  星期六  13℃   5℃      晴  微风 小于3级\n",
       "4  2014-01-05  星期日  10℃   6℃  多云转小雨  微风 小于3级"
      ]
     },
     "execution_count": 95,
     "metadata": {},
     "output_type": "execute_result"
    }
   ],
   "source": [
    "dataPath = \"data/ME/ME_data.csv\"\n",
    "data = pd.read_csv(dataPath)\n",
    "data.head()"
   ]
  },
  {
   "cell_type": "code",
   "execution_count": 96,
   "metadata": {},
   "outputs": [
    {
     "data": {
      "text/plain": [
       "(2889, 6)"
      ]
     },
     "execution_count": 96,
     "metadata": {},
     "output_type": "execute_result"
    }
   ],
   "source": [
    "data.shape"
   ]
  },
  {
   "cell_type": "code",
   "execution_count": 97,
   "metadata": {},
   "outputs": [
    {
     "data": {
      "text/plain": [
       "(2798, 6)"
      ]
     },
     "execution_count": 97,
     "metadata": {},
     "output_type": "execute_result"
    }
   ],
   "source": [
    "data = data[data['日期']!=\"日期\"]  # 去除不必要的列名\n",
    "data = data.reset_index(drop=True)  # 重新编排索引\n",
    "data.shape"
   ]
  },
  {
   "cell_type": "markdown",
   "metadata": {},
   "source": [
    "# 2. 添加“年”，“月”， “日”"
   ]
  },
  {
   "cell_type": "markdown",
   "metadata": {},
   "source": [
    "## 2.1 切分日期"
   ]
  },
  {
   "cell_type": "code",
   "execution_count": 98,
   "metadata": {},
   "outputs": [
    {
     "data": {
      "text/html": [
       "<div>\n",
       "<style scoped>\n",
       "    .dataframe tbody tr th:only-of-type {\n",
       "        vertical-align: middle;\n",
       "    }\n",
       "\n",
       "    .dataframe tbody tr th {\n",
       "        vertical-align: top;\n",
       "    }\n",
       "\n",
       "    .dataframe thead th {\n",
       "        text-align: right;\n",
       "    }\n",
       "</style>\n",
       "<table border=\"1\" class=\"dataframe\">\n",
       "  <thead>\n",
       "    <tr style=\"text-align: right;\">\n",
       "      <th></th>\n",
       "      <th>0</th>\n",
       "      <th>1</th>\n",
       "      <th>2</th>\n",
       "    </tr>\n",
       "  </thead>\n",
       "  <tbody>\n",
       "    <tr>\n",
       "      <th>0</th>\n",
       "      <td>2014</td>\n",
       "      <td>01</td>\n",
       "      <td>01</td>\n",
       "    </tr>\n",
       "    <tr>\n",
       "      <th>1</th>\n",
       "      <td>2014</td>\n",
       "      <td>01</td>\n",
       "      <td>02</td>\n",
       "    </tr>\n",
       "    <tr>\n",
       "      <th>2</th>\n",
       "      <td>2014</td>\n",
       "      <td>01</td>\n",
       "      <td>03</td>\n",
       "    </tr>\n",
       "    <tr>\n",
       "      <th>3</th>\n",
       "      <td>2014</td>\n",
       "      <td>01</td>\n",
       "      <td>04</td>\n",
       "    </tr>\n",
       "    <tr>\n",
       "      <th>4</th>\n",
       "      <td>2014</td>\n",
       "      <td>01</td>\n",
       "      <td>05</td>\n",
       "    </tr>\n",
       "  </tbody>\n",
       "</table>\n",
       "</div>"
      ],
      "text/plain": [
       "      0   1   2\n",
       "0  2014  01  01\n",
       "1  2014  01  02\n",
       "2  2014  01  03\n",
       "3  2014  01  04\n",
       "4  2014  01  05"
      ]
     },
     "execution_count": 98,
     "metadata": {},
     "output_type": "execute_result"
    }
   ],
   "source": [
    "data_temp = data['日期'].str.split('-', expand=True)\n",
    "data_temp.head()"
   ]
  },
  {
   "cell_type": "markdown",
   "metadata": {},
   "source": [
    "## 2.2 合并数据"
   ]
  },
  {
   "cell_type": "code",
   "execution_count": 99,
   "metadata": {},
   "outputs": [
    {
     "data": {
      "text/html": [
       "<div>\n",
       "<style scoped>\n",
       "    .dataframe tbody tr th:only-of-type {\n",
       "        vertical-align: middle;\n",
       "    }\n",
       "\n",
       "    .dataframe tbody tr th {\n",
       "        vertical-align: top;\n",
       "    }\n",
       "\n",
       "    .dataframe thead th {\n",
       "        text-align: right;\n",
       "    }\n",
       "</style>\n",
       "<table border=\"1\" class=\"dataframe\">\n",
       "  <thead>\n",
       "    <tr style=\"text-align: right;\">\n",
       "      <th></th>\n",
       "      <th>日期</th>\n",
       "      <th>星期</th>\n",
       "      <th>最高温度</th>\n",
       "      <th>最低温度</th>\n",
       "      <th>天气</th>\n",
       "      <th>风向风力</th>\n",
       "      <th>0</th>\n",
       "      <th>1</th>\n",
       "      <th>2</th>\n",
       "    </tr>\n",
       "  </thead>\n",
       "  <tbody>\n",
       "    <tr>\n",
       "      <th>0</th>\n",
       "      <td>2014-01-01</td>\n",
       "      <td>星期三</td>\n",
       "      <td>10℃</td>\n",
       "      <td>4℃</td>\n",
       "      <td>多云</td>\n",
       "      <td>微风 小于3级</td>\n",
       "      <td>2014</td>\n",
       "      <td>01</td>\n",
       "      <td>01</td>\n",
       "    </tr>\n",
       "    <tr>\n",
       "      <th>1</th>\n",
       "      <td>2014-01-02</td>\n",
       "      <td>星期四</td>\n",
       "      <td>8℃</td>\n",
       "      <td>6℃</td>\n",
       "      <td>阴转小雨</td>\n",
       "      <td>微风 小于3级</td>\n",
       "      <td>2014</td>\n",
       "      <td>01</td>\n",
       "      <td>02</td>\n",
       "    </tr>\n",
       "    <tr>\n",
       "      <th>2</th>\n",
       "      <td>2014-01-03</td>\n",
       "      <td>星期五</td>\n",
       "      <td>9℃</td>\n",
       "      <td>5℃</td>\n",
       "      <td>阴</td>\n",
       "      <td>微风 小于3级</td>\n",
       "      <td>2014</td>\n",
       "      <td>01</td>\n",
       "      <td>03</td>\n",
       "    </tr>\n",
       "    <tr>\n",
       "      <th>3</th>\n",
       "      <td>2014-01-04</td>\n",
       "      <td>星期六</td>\n",
       "      <td>13℃</td>\n",
       "      <td>5℃</td>\n",
       "      <td>晴</td>\n",
       "      <td>微风 小于3级</td>\n",
       "      <td>2014</td>\n",
       "      <td>01</td>\n",
       "      <td>04</td>\n",
       "    </tr>\n",
       "    <tr>\n",
       "      <th>4</th>\n",
       "      <td>2014-01-05</td>\n",
       "      <td>星期日</td>\n",
       "      <td>10℃</td>\n",
       "      <td>6℃</td>\n",
       "      <td>多云转小雨</td>\n",
       "      <td>微风 小于3级</td>\n",
       "      <td>2014</td>\n",
       "      <td>01</td>\n",
       "      <td>05</td>\n",
       "    </tr>\n",
       "  </tbody>\n",
       "</table>\n",
       "</div>"
      ],
      "text/plain": [
       "           日期   星期 最高温度 最低温度     天气     风向风力     0   1   2\n",
       "0  2014-01-01  星期三  10℃   4℃     多云  微风 小于3级  2014  01  01\n",
       "1  2014-01-02  星期四   8℃   6℃   阴转小雨  微风 小于3级  2014  01  02\n",
       "2  2014-01-03  星期五   9℃   5℃      阴  微风 小于3级  2014  01  03\n",
       "3  2014-01-04  星期六  13℃   5℃      晴  微风 小于3级  2014  01  04\n",
       "4  2014-01-05  星期日  10℃   6℃  多云转小雨  微风 小于3级  2014  01  05"
      ]
     },
     "execution_count": 99,
     "metadata": {},
     "output_type": "execute_result"
    }
   ],
   "source": [
    "data = pd.merge(data, data_temp, how='left', left_index=True, right_index=True)\n",
    "data.head()"
   ]
  },
  {
   "cell_type": "markdown",
   "metadata": {},
   "source": [
    "## 2.3 修改列名"
   ]
  },
  {
   "cell_type": "code",
   "execution_count": 100,
   "metadata": {},
   "outputs": [
    {
     "data": {
      "text/html": [
       "<div>\n",
       "<style scoped>\n",
       "    .dataframe tbody tr th:only-of-type {\n",
       "        vertical-align: middle;\n",
       "    }\n",
       "\n",
       "    .dataframe tbody tr th {\n",
       "        vertical-align: top;\n",
       "    }\n",
       "\n",
       "    .dataframe thead th {\n",
       "        text-align: right;\n",
       "    }\n",
       "</style>\n",
       "<table border=\"1\" class=\"dataframe\">\n",
       "  <thead>\n",
       "    <tr style=\"text-align: right;\">\n",
       "      <th></th>\n",
       "      <th>日期</th>\n",
       "      <th>星期</th>\n",
       "      <th>最高温度</th>\n",
       "      <th>最低温度</th>\n",
       "      <th>天气</th>\n",
       "      <th>风向风力</th>\n",
       "      <th>年</th>\n",
       "      <th>月</th>\n",
       "      <th>日</th>\n",
       "    </tr>\n",
       "  </thead>\n",
       "  <tbody>\n",
       "    <tr>\n",
       "      <th>0</th>\n",
       "      <td>2014-01-01</td>\n",
       "      <td>星期三</td>\n",
       "      <td>10℃</td>\n",
       "      <td>4℃</td>\n",
       "      <td>多云</td>\n",
       "      <td>微风 小于3级</td>\n",
       "      <td>2014</td>\n",
       "      <td>01</td>\n",
       "      <td>01</td>\n",
       "    </tr>\n",
       "    <tr>\n",
       "      <th>1</th>\n",
       "      <td>2014-01-02</td>\n",
       "      <td>星期四</td>\n",
       "      <td>8℃</td>\n",
       "      <td>6℃</td>\n",
       "      <td>阴转小雨</td>\n",
       "      <td>微风 小于3级</td>\n",
       "      <td>2014</td>\n",
       "      <td>01</td>\n",
       "      <td>02</td>\n",
       "    </tr>\n",
       "    <tr>\n",
       "      <th>2</th>\n",
       "      <td>2014-01-03</td>\n",
       "      <td>星期五</td>\n",
       "      <td>9℃</td>\n",
       "      <td>5℃</td>\n",
       "      <td>阴</td>\n",
       "      <td>微风 小于3级</td>\n",
       "      <td>2014</td>\n",
       "      <td>01</td>\n",
       "      <td>03</td>\n",
       "    </tr>\n",
       "    <tr>\n",
       "      <th>3</th>\n",
       "      <td>2014-01-04</td>\n",
       "      <td>星期六</td>\n",
       "      <td>13℃</td>\n",
       "      <td>5℃</td>\n",
       "      <td>晴</td>\n",
       "      <td>微风 小于3级</td>\n",
       "      <td>2014</td>\n",
       "      <td>01</td>\n",
       "      <td>04</td>\n",
       "    </tr>\n",
       "    <tr>\n",
       "      <th>4</th>\n",
       "      <td>2014-01-05</td>\n",
       "      <td>星期日</td>\n",
       "      <td>10℃</td>\n",
       "      <td>6℃</td>\n",
       "      <td>多云转小雨</td>\n",
       "      <td>微风 小于3级</td>\n",
       "      <td>2014</td>\n",
       "      <td>01</td>\n",
       "      <td>05</td>\n",
       "    </tr>\n",
       "  </tbody>\n",
       "</table>\n",
       "</div>"
      ],
      "text/plain": [
       "           日期   星期 最高温度 最低温度     天气     风向风力     年   月   日\n",
       "0  2014-01-01  星期三  10℃   4℃     多云  微风 小于3级  2014  01  01\n",
       "1  2014-01-02  星期四   8℃   6℃   阴转小雨  微风 小于3级  2014  01  02\n",
       "2  2014-01-03  星期五   9℃   5℃      阴  微风 小于3级  2014  01  03\n",
       "3  2014-01-04  星期六  13℃   5℃      晴  微风 小于3级  2014  01  04\n",
       "4  2014-01-05  星期日  10℃   6℃  多云转小雨  微风 小于3级  2014  01  05"
      ]
     },
     "execution_count": 100,
     "metadata": {},
     "output_type": "execute_result"
    }
   ],
   "source": [
    "data.rename(columns={0: '年', 1: '月', 2: '日'}, inplace=True) \n",
    "data.head()"
   ]
  },
  {
   "cell_type": "markdown",
   "metadata": {},
   "source": [
    "# 3. 类型转换"
   ]
  },
  {
   "cell_type": "markdown",
   "metadata": {},
   "source": [
    "## 3.1 数值类型"
   ]
  },
  {
   "cell_type": "markdown",
   "metadata": {},
   "source": [
    "### 3.1.1 日期"
   ]
  },
  {
   "cell_type": "code",
   "execution_count": 101,
   "metadata": {},
   "outputs": [
    {
     "data": {
      "text/html": [
       "<div>\n",
       "<style scoped>\n",
       "    .dataframe tbody tr th:only-of-type {\n",
       "        vertical-align: middle;\n",
       "    }\n",
       "\n",
       "    .dataframe tbody tr th {\n",
       "        vertical-align: top;\n",
       "    }\n",
       "\n",
       "    .dataframe thead th {\n",
       "        text-align: right;\n",
       "    }\n",
       "</style>\n",
       "<table border=\"1\" class=\"dataframe\">\n",
       "  <thead>\n",
       "    <tr style=\"text-align: right;\">\n",
       "      <th></th>\n",
       "      <th>日期</th>\n",
       "      <th>星期</th>\n",
       "      <th>最高温度</th>\n",
       "      <th>最低温度</th>\n",
       "      <th>天气</th>\n",
       "      <th>风向风力</th>\n",
       "      <th>年</th>\n",
       "      <th>月</th>\n",
       "      <th>日</th>\n",
       "    </tr>\n",
       "  </thead>\n",
       "  <tbody>\n",
       "    <tr>\n",
       "      <th>0</th>\n",
       "      <td>2014-01-01</td>\n",
       "      <td>3.0</td>\n",
       "      <td>10℃</td>\n",
       "      <td>4℃</td>\n",
       "      <td>多云</td>\n",
       "      <td>微风 小于3级</td>\n",
       "      <td>2014</td>\n",
       "      <td>01</td>\n",
       "      <td>01</td>\n",
       "    </tr>\n",
       "    <tr>\n",
       "      <th>1</th>\n",
       "      <td>2014-01-02</td>\n",
       "      <td>4.0</td>\n",
       "      <td>8℃</td>\n",
       "      <td>6℃</td>\n",
       "      <td>阴转小雨</td>\n",
       "      <td>微风 小于3级</td>\n",
       "      <td>2014</td>\n",
       "      <td>01</td>\n",
       "      <td>02</td>\n",
       "    </tr>\n",
       "    <tr>\n",
       "      <th>2</th>\n",
       "      <td>2014-01-03</td>\n",
       "      <td>5.0</td>\n",
       "      <td>9℃</td>\n",
       "      <td>5℃</td>\n",
       "      <td>阴</td>\n",
       "      <td>微风 小于3级</td>\n",
       "      <td>2014</td>\n",
       "      <td>01</td>\n",
       "      <td>03</td>\n",
       "    </tr>\n",
       "    <tr>\n",
       "      <th>3</th>\n",
       "      <td>2014-01-04</td>\n",
       "      <td>6.0</td>\n",
       "      <td>13℃</td>\n",
       "      <td>5℃</td>\n",
       "      <td>晴</td>\n",
       "      <td>微风 小于3级</td>\n",
       "      <td>2014</td>\n",
       "      <td>01</td>\n",
       "      <td>04</td>\n",
       "    </tr>\n",
       "    <tr>\n",
       "      <th>4</th>\n",
       "      <td>2014-01-05</td>\n",
       "      <td>7.0</td>\n",
       "      <td>10℃</td>\n",
       "      <td>6℃</td>\n",
       "      <td>多云转小雨</td>\n",
       "      <td>微风 小于3级</td>\n",
       "      <td>2014</td>\n",
       "      <td>01</td>\n",
       "      <td>05</td>\n",
       "    </tr>\n",
       "  </tbody>\n",
       "</table>\n",
       "</div>"
      ],
      "text/plain": [
       "           日期   星期 最高温度 最低温度     天气     风向风力     年   月   日\n",
       "0  2014-01-01  3.0  10℃   4℃     多云  微风 小于3级  2014  01  01\n",
       "1  2014-01-02  4.0   8℃   6℃   阴转小雨  微风 小于3级  2014  01  02\n",
       "2  2014-01-03  5.0   9℃   5℃      阴  微风 小于3级  2014  01  03\n",
       "3  2014-01-04  6.0  13℃   5℃      晴  微风 小于3级  2014  01  04\n",
       "4  2014-01-05  7.0  10℃   6℃  多云转小雨  微风 小于3级  2014  01  05"
      ]
     },
     "execution_count": 101,
     "metadata": {},
     "output_type": "execute_result"
    }
   ],
   "source": [
    "data['星期'] = data['星期'].map({'星期一': 1, '星期二': 2, '星期三': 3, '星期四': 4, '星期五': 5, '星期六': 6, '星期日': 7})\n",
    "data.head()"
   ]
  },
  {
   "cell_type": "markdown",
   "metadata": {},
   "source": [
    "### 3.1.2 最高温度和最低温度"
   ]
  },
  {
   "cell_type": "code",
   "execution_count": 102,
   "metadata": {},
   "outputs": [
    {
     "data": {
      "text/html": [
       "<div>\n",
       "<style scoped>\n",
       "    .dataframe tbody tr th:only-of-type {\n",
       "        vertical-align: middle;\n",
       "    }\n",
       "\n",
       "    .dataframe tbody tr th {\n",
       "        vertical-align: top;\n",
       "    }\n",
       "\n",
       "    .dataframe thead th {\n",
       "        text-align: right;\n",
       "    }\n",
       "</style>\n",
       "<table border=\"1\" class=\"dataframe\">\n",
       "  <thead>\n",
       "    <tr style=\"text-align: right;\">\n",
       "      <th></th>\n",
       "      <th>日期</th>\n",
       "      <th>星期</th>\n",
       "      <th>最高温度</th>\n",
       "      <th>最低温度</th>\n",
       "      <th>天气</th>\n",
       "      <th>风向风力</th>\n",
       "      <th>年</th>\n",
       "      <th>月</th>\n",
       "      <th>日</th>\n",
       "    </tr>\n",
       "  </thead>\n",
       "  <tbody>\n",
       "    <tr>\n",
       "      <th>0</th>\n",
       "      <td>2014-01-01</td>\n",
       "      <td>3.0</td>\n",
       "      <td>10</td>\n",
       "      <td>4</td>\n",
       "      <td>多云</td>\n",
       "      <td>微风 小于3级</td>\n",
       "      <td>2014</td>\n",
       "      <td>01</td>\n",
       "      <td>01</td>\n",
       "    </tr>\n",
       "    <tr>\n",
       "      <th>1</th>\n",
       "      <td>2014-01-02</td>\n",
       "      <td>4.0</td>\n",
       "      <td>8</td>\n",
       "      <td>6</td>\n",
       "      <td>阴转小雨</td>\n",
       "      <td>微风 小于3级</td>\n",
       "      <td>2014</td>\n",
       "      <td>01</td>\n",
       "      <td>02</td>\n",
       "    </tr>\n",
       "    <tr>\n",
       "      <th>2</th>\n",
       "      <td>2014-01-03</td>\n",
       "      <td>5.0</td>\n",
       "      <td>9</td>\n",
       "      <td>5</td>\n",
       "      <td>阴</td>\n",
       "      <td>微风 小于3级</td>\n",
       "      <td>2014</td>\n",
       "      <td>01</td>\n",
       "      <td>03</td>\n",
       "    </tr>\n",
       "    <tr>\n",
       "      <th>3</th>\n",
       "      <td>2014-01-04</td>\n",
       "      <td>6.0</td>\n",
       "      <td>13</td>\n",
       "      <td>5</td>\n",
       "      <td>晴</td>\n",
       "      <td>微风 小于3级</td>\n",
       "      <td>2014</td>\n",
       "      <td>01</td>\n",
       "      <td>04</td>\n",
       "    </tr>\n",
       "    <tr>\n",
       "      <th>4</th>\n",
       "      <td>2014-01-05</td>\n",
       "      <td>7.0</td>\n",
       "      <td>10</td>\n",
       "      <td>6</td>\n",
       "      <td>多云转小雨</td>\n",
       "      <td>微风 小于3级</td>\n",
       "      <td>2014</td>\n",
       "      <td>01</td>\n",
       "      <td>05</td>\n",
       "    </tr>\n",
       "  </tbody>\n",
       "</table>\n",
       "</div>"
      ],
      "text/plain": [
       "           日期   星期 最高温度 最低温度     天气     风向风力     年   月   日\n",
       "0  2014-01-01  3.0   10    4     多云  微风 小于3级  2014  01  01\n",
       "1  2014-01-02  4.0    8    6   阴转小雨  微风 小于3级  2014  01  02\n",
       "2  2014-01-03  5.0    9    5      阴  微风 小于3级  2014  01  03\n",
       "3  2014-01-04  6.0   13    5      晴  微风 小于3级  2014  01  04\n",
       "4  2014-01-05  7.0   10    6  多云转小雨  微风 小于3级  2014  01  05"
      ]
     },
     "execution_count": 102,
     "metadata": {},
     "output_type": "execute_result"
    }
   ],
   "source": [
    "data_high_temp = data['最高温度'].str.split('℃', expand=True)\n",
    "data_low_temp = data['最低温度'].str.split('℃', expand=True)\n",
    "\n",
    "data['最高温度'] = data_high_temp[0]\n",
    "data['最低温度'] = data_low_temp[0]\n",
    "data.head()"
   ]
  },
  {
   "cell_type": "markdown",
   "metadata": {},
   "source": [
    "# 待解决\n",
    "\n",
    "# 天气、风向风力"
   ]
  },
  {
   "cell_type": "code",
   "execution_count": 107,
   "metadata": {},
   "outputs": [
    {
     "ename": "UnicodeDecodeError",
     "evalue": "'gbk' codec can't decode byte 0x84 in position 42: illegal multibyte sequence",
     "output_type": "error",
     "traceback": [
      "\u001b[1;31m---------------------------------------------------------------------------\u001b[0m",
      "\u001b[1;31mUnicodeDecodeError\u001b[0m                        Traceback (most recent call last)",
      "\u001b[1;32mc:\\Users\\LEGION\\Documents\\GitHub\\Atmospheric-Environment-Prediction-System\\project\\ME_pretreat.ipynb Cell 21'\u001b[0m in \u001b[0;36m<cell line: 2>\u001b[1;34m()\u001b[0m\n\u001b[0;32m      <a href='vscode-notebook-cell:/c%3A/Users/LEGION/Documents/GitHub/Atmospheric-Environment-Prediction-System/project/ME_pretreat.ipynb#ch0000020?line=0'>1</a>\u001b[0m dataPathNew \u001b[39m=\u001b[39m \u001b[39m\"\u001b[39m\u001b[39mdata/ME/ME_data_new.csv\u001b[39m\u001b[39m\"\u001b[39m\n\u001b[1;32m----> <a href='vscode-notebook-cell:/c%3A/Users/LEGION/Documents/GitHub/Atmospheric-Environment-Prediction-System/project/ME_pretreat.ipynb#ch0000020?line=1'>2</a>\u001b[0m dataNew \u001b[39m=\u001b[39m pd\u001b[39m.\u001b[39;49mread_csv(dataPathNew,encoding\u001b[39m=\u001b[39;49m\u001b[39m'\u001b[39;49m\u001b[39mgbk\u001b[39;49m\u001b[39m'\u001b[39;49m)\n\u001b[0;32m      <a href='vscode-notebook-cell:/c%3A/Users/LEGION/Documents/GitHub/Atmospheric-Environment-Prediction-System/project/ME_pretreat.ipynb#ch0000020?line=2'>3</a>\u001b[0m dataNew\u001b[39m.\u001b[39mhead()\n",
      "File \u001b[1;32m~\\AppData\\Local\\Programs\\Python\\Python310\\lib\\site-packages\\pandas\\util\\_decorators.py:311\u001b[0m, in \u001b[0;36mdeprecate_nonkeyword_arguments.<locals>.decorate.<locals>.wrapper\u001b[1;34m(*args, **kwargs)\u001b[0m\n\u001b[0;32m    <a href='file:///c%3A/Users/LEGION/AppData/Local/Programs/Python/Python310/lib/site-packages/pandas/util/_decorators.py?line=304'>305</a>\u001b[0m \u001b[39mif\u001b[39;00m \u001b[39mlen\u001b[39m(args) \u001b[39m>\u001b[39m num_allow_args:\n\u001b[0;32m    <a href='file:///c%3A/Users/LEGION/AppData/Local/Programs/Python/Python310/lib/site-packages/pandas/util/_decorators.py?line=305'>306</a>\u001b[0m     warnings\u001b[39m.\u001b[39mwarn(\n\u001b[0;32m    <a href='file:///c%3A/Users/LEGION/AppData/Local/Programs/Python/Python310/lib/site-packages/pandas/util/_decorators.py?line=306'>307</a>\u001b[0m         msg\u001b[39m.\u001b[39mformat(arguments\u001b[39m=\u001b[39marguments),\n\u001b[0;32m    <a href='file:///c%3A/Users/LEGION/AppData/Local/Programs/Python/Python310/lib/site-packages/pandas/util/_decorators.py?line=307'>308</a>\u001b[0m         \u001b[39mFutureWarning\u001b[39;00m,\n\u001b[0;32m    <a href='file:///c%3A/Users/LEGION/AppData/Local/Programs/Python/Python310/lib/site-packages/pandas/util/_decorators.py?line=308'>309</a>\u001b[0m         stacklevel\u001b[39m=\u001b[39mstacklevel,\n\u001b[0;32m    <a href='file:///c%3A/Users/LEGION/AppData/Local/Programs/Python/Python310/lib/site-packages/pandas/util/_decorators.py?line=309'>310</a>\u001b[0m     )\n\u001b[1;32m--> <a href='file:///c%3A/Users/LEGION/AppData/Local/Programs/Python/Python310/lib/site-packages/pandas/util/_decorators.py?line=310'>311</a>\u001b[0m \u001b[39mreturn\u001b[39;00m func(\u001b[39m*\u001b[39margs, \u001b[39m*\u001b[39m\u001b[39m*\u001b[39mkwargs)\n",
      "File \u001b[1;32m~\\AppData\\Local\\Programs\\Python\\Python310\\lib\\site-packages\\pandas\\io\\parsers\\readers.py:680\u001b[0m, in \u001b[0;36mread_csv\u001b[1;34m(filepath_or_buffer, sep, delimiter, header, names, index_col, usecols, squeeze, prefix, mangle_dupe_cols, dtype, engine, converters, true_values, false_values, skipinitialspace, skiprows, skipfooter, nrows, na_values, keep_default_na, na_filter, verbose, skip_blank_lines, parse_dates, infer_datetime_format, keep_date_col, date_parser, dayfirst, cache_dates, iterator, chunksize, compression, thousands, decimal, lineterminator, quotechar, quoting, doublequote, escapechar, comment, encoding, encoding_errors, dialect, error_bad_lines, warn_bad_lines, on_bad_lines, delim_whitespace, low_memory, memory_map, float_precision, storage_options)\u001b[0m\n\u001b[0;32m    <a href='file:///c%3A/Users/LEGION/AppData/Local/Programs/Python/Python310/lib/site-packages/pandas/io/parsers/readers.py?line=664'>665</a>\u001b[0m kwds_defaults \u001b[39m=\u001b[39m _refine_defaults_read(\n\u001b[0;32m    <a href='file:///c%3A/Users/LEGION/AppData/Local/Programs/Python/Python310/lib/site-packages/pandas/io/parsers/readers.py?line=665'>666</a>\u001b[0m     dialect,\n\u001b[0;32m    <a href='file:///c%3A/Users/LEGION/AppData/Local/Programs/Python/Python310/lib/site-packages/pandas/io/parsers/readers.py?line=666'>667</a>\u001b[0m     delimiter,\n\u001b[1;32m   (...)\u001b[0m\n\u001b[0;32m    <a href='file:///c%3A/Users/LEGION/AppData/Local/Programs/Python/Python310/lib/site-packages/pandas/io/parsers/readers.py?line=675'>676</a>\u001b[0m     defaults\u001b[39m=\u001b[39m{\u001b[39m\"\u001b[39m\u001b[39mdelimiter\u001b[39m\u001b[39m\"\u001b[39m: \u001b[39m\"\u001b[39m\u001b[39m,\u001b[39m\u001b[39m\"\u001b[39m},\n\u001b[0;32m    <a href='file:///c%3A/Users/LEGION/AppData/Local/Programs/Python/Python310/lib/site-packages/pandas/io/parsers/readers.py?line=676'>677</a>\u001b[0m )\n\u001b[0;32m    <a href='file:///c%3A/Users/LEGION/AppData/Local/Programs/Python/Python310/lib/site-packages/pandas/io/parsers/readers.py?line=677'>678</a>\u001b[0m kwds\u001b[39m.\u001b[39mupdate(kwds_defaults)\n\u001b[1;32m--> <a href='file:///c%3A/Users/LEGION/AppData/Local/Programs/Python/Python310/lib/site-packages/pandas/io/parsers/readers.py?line=679'>680</a>\u001b[0m \u001b[39mreturn\u001b[39;00m _read(filepath_or_buffer, kwds)\n",
      "File \u001b[1;32m~\\AppData\\Local\\Programs\\Python\\Python310\\lib\\site-packages\\pandas\\io\\parsers\\readers.py:575\u001b[0m, in \u001b[0;36m_read\u001b[1;34m(filepath_or_buffer, kwds)\u001b[0m\n\u001b[0;32m    <a href='file:///c%3A/Users/LEGION/AppData/Local/Programs/Python/Python310/lib/site-packages/pandas/io/parsers/readers.py?line=571'>572</a>\u001b[0m _validate_names(kwds\u001b[39m.\u001b[39mget(\u001b[39m\"\u001b[39m\u001b[39mnames\u001b[39m\u001b[39m\"\u001b[39m, \u001b[39mNone\u001b[39;00m))\n\u001b[0;32m    <a href='file:///c%3A/Users/LEGION/AppData/Local/Programs/Python/Python310/lib/site-packages/pandas/io/parsers/readers.py?line=573'>574</a>\u001b[0m \u001b[39m# Create the parser.\u001b[39;00m\n\u001b[1;32m--> <a href='file:///c%3A/Users/LEGION/AppData/Local/Programs/Python/Python310/lib/site-packages/pandas/io/parsers/readers.py?line=574'>575</a>\u001b[0m parser \u001b[39m=\u001b[39m TextFileReader(filepath_or_buffer, \u001b[39m*\u001b[39m\u001b[39m*\u001b[39mkwds)\n\u001b[0;32m    <a href='file:///c%3A/Users/LEGION/AppData/Local/Programs/Python/Python310/lib/site-packages/pandas/io/parsers/readers.py?line=576'>577</a>\u001b[0m \u001b[39mif\u001b[39;00m chunksize \u001b[39mor\u001b[39;00m iterator:\n\u001b[0;32m    <a href='file:///c%3A/Users/LEGION/AppData/Local/Programs/Python/Python310/lib/site-packages/pandas/io/parsers/readers.py?line=577'>578</a>\u001b[0m     \u001b[39mreturn\u001b[39;00m parser\n",
      "File \u001b[1;32m~\\AppData\\Local\\Programs\\Python\\Python310\\lib\\site-packages\\pandas\\io\\parsers\\readers.py:933\u001b[0m, in \u001b[0;36mTextFileReader.__init__\u001b[1;34m(self, f, engine, **kwds)\u001b[0m\n\u001b[0;32m    <a href='file:///c%3A/Users/LEGION/AppData/Local/Programs/Python/Python310/lib/site-packages/pandas/io/parsers/readers.py?line=929'>930</a>\u001b[0m     \u001b[39mself\u001b[39m\u001b[39m.\u001b[39moptions[\u001b[39m\"\u001b[39m\u001b[39mhas_index_names\u001b[39m\u001b[39m\"\u001b[39m] \u001b[39m=\u001b[39m kwds[\u001b[39m\"\u001b[39m\u001b[39mhas_index_names\u001b[39m\u001b[39m\"\u001b[39m]\n\u001b[0;32m    <a href='file:///c%3A/Users/LEGION/AppData/Local/Programs/Python/Python310/lib/site-packages/pandas/io/parsers/readers.py?line=931'>932</a>\u001b[0m \u001b[39mself\u001b[39m\u001b[39m.\u001b[39mhandles: IOHandles \u001b[39m|\u001b[39m \u001b[39mNone\u001b[39;00m \u001b[39m=\u001b[39m \u001b[39mNone\u001b[39;00m\n\u001b[1;32m--> <a href='file:///c%3A/Users/LEGION/AppData/Local/Programs/Python/Python310/lib/site-packages/pandas/io/parsers/readers.py?line=932'>933</a>\u001b[0m \u001b[39mself\u001b[39m\u001b[39m.\u001b[39m_engine \u001b[39m=\u001b[39m \u001b[39mself\u001b[39;49m\u001b[39m.\u001b[39;49m_make_engine(f, \u001b[39mself\u001b[39;49m\u001b[39m.\u001b[39;49mengine)\n",
      "File \u001b[1;32m~\\AppData\\Local\\Programs\\Python\\Python310\\lib\\site-packages\\pandas\\io\\parsers\\readers.py:1231\u001b[0m, in \u001b[0;36mTextFileReader._make_engine\u001b[1;34m(self, f, engine)\u001b[0m\n\u001b[0;32m   <a href='file:///c%3A/Users/LEGION/AppData/Local/Programs/Python/Python310/lib/site-packages/pandas/io/parsers/readers.py?line=1227'>1228</a>\u001b[0m     f \u001b[39m=\u001b[39m \u001b[39mself\u001b[39m\u001b[39m.\u001b[39mhandles\u001b[39m.\u001b[39mhandle\n\u001b[0;32m   <a href='file:///c%3A/Users/LEGION/AppData/Local/Programs/Python/Python310/lib/site-packages/pandas/io/parsers/readers.py?line=1229'>1230</a>\u001b[0m \u001b[39mtry\u001b[39;00m:\n\u001b[1;32m-> <a href='file:///c%3A/Users/LEGION/AppData/Local/Programs/Python/Python310/lib/site-packages/pandas/io/parsers/readers.py?line=1230'>1231</a>\u001b[0m     \u001b[39mreturn\u001b[39;00m mapping[engine](f, \u001b[39m*\u001b[39m\u001b[39m*\u001b[39m\u001b[39mself\u001b[39m\u001b[39m.\u001b[39moptions)\n\u001b[0;32m   <a href='file:///c%3A/Users/LEGION/AppData/Local/Programs/Python/Python310/lib/site-packages/pandas/io/parsers/readers.py?line=1231'>1232</a>\u001b[0m \u001b[39mexcept\u001b[39;00m \u001b[39mException\u001b[39;00m:\n\u001b[0;32m   <a href='file:///c%3A/Users/LEGION/AppData/Local/Programs/Python/Python310/lib/site-packages/pandas/io/parsers/readers.py?line=1232'>1233</a>\u001b[0m     \u001b[39mif\u001b[39;00m \u001b[39mself\u001b[39m\u001b[39m.\u001b[39mhandles \u001b[39mis\u001b[39;00m \u001b[39mnot\u001b[39;00m \u001b[39mNone\u001b[39;00m:\n",
      "File \u001b[1;32m~\\AppData\\Local\\Programs\\Python\\Python310\\lib\\site-packages\\pandas\\io\\parsers\\c_parser_wrapper.py:75\u001b[0m, in \u001b[0;36mCParserWrapper.__init__\u001b[1;34m(self, src, **kwds)\u001b[0m\n\u001b[0;32m     <a href='file:///c%3A/Users/LEGION/AppData/Local/Programs/Python/Python310/lib/site-packages/pandas/io/parsers/c_parser_wrapper.py?line=71'>72</a>\u001b[0m     kwds\u001b[39m.\u001b[39mpop(key, \u001b[39mNone\u001b[39;00m)\n\u001b[0;32m     <a href='file:///c%3A/Users/LEGION/AppData/Local/Programs/Python/Python310/lib/site-packages/pandas/io/parsers/c_parser_wrapper.py?line=73'>74</a>\u001b[0m kwds[\u001b[39m\"\u001b[39m\u001b[39mdtype\u001b[39m\u001b[39m\"\u001b[39m] \u001b[39m=\u001b[39m ensure_dtype_objs(kwds\u001b[39m.\u001b[39mget(\u001b[39m\"\u001b[39m\u001b[39mdtype\u001b[39m\u001b[39m\"\u001b[39m, \u001b[39mNone\u001b[39;00m))\n\u001b[1;32m---> <a href='file:///c%3A/Users/LEGION/AppData/Local/Programs/Python/Python310/lib/site-packages/pandas/io/parsers/c_parser_wrapper.py?line=74'>75</a>\u001b[0m \u001b[39mself\u001b[39m\u001b[39m.\u001b[39m_reader \u001b[39m=\u001b[39m parsers\u001b[39m.\u001b[39mTextReader(src, \u001b[39m*\u001b[39m\u001b[39m*\u001b[39mkwds)\n\u001b[0;32m     <a href='file:///c%3A/Users/LEGION/AppData/Local/Programs/Python/Python310/lib/site-packages/pandas/io/parsers/c_parser_wrapper.py?line=76'>77</a>\u001b[0m \u001b[39mself\u001b[39m\u001b[39m.\u001b[39munnamed_cols \u001b[39m=\u001b[39m \u001b[39mself\u001b[39m\u001b[39m.\u001b[39m_reader\u001b[39m.\u001b[39munnamed_cols\n\u001b[0;32m     <a href='file:///c%3A/Users/LEGION/AppData/Local/Programs/Python/Python310/lib/site-packages/pandas/io/parsers/c_parser_wrapper.py?line=78'>79</a>\u001b[0m \u001b[39m# error: Cannot determine type of 'names'\u001b[39;00m\n",
      "File \u001b[1;32m~\\AppData\\Local\\Programs\\Python\\Python310\\lib\\site-packages\\pandas\\_libs\\parsers.pyx:544\u001b[0m, in \u001b[0;36mpandas._libs.parsers.TextReader.__cinit__\u001b[1;34m()\u001b[0m\n",
      "File \u001b[1;32m~\\AppData\\Local\\Programs\\Python\\Python310\\lib\\site-packages\\pandas\\_libs\\parsers.pyx:633\u001b[0m, in \u001b[0;36mpandas._libs.parsers.TextReader._get_header\u001b[1;34m()\u001b[0m\n",
      "File \u001b[1;32m~\\AppData\\Local\\Programs\\Python\\Python310\\lib\\site-packages\\pandas\\_libs\\parsers.pyx:847\u001b[0m, in \u001b[0;36mpandas._libs.parsers.TextReader._tokenize_rows\u001b[1;34m()\u001b[0m\n",
      "File \u001b[1;32m~\\AppData\\Local\\Programs\\Python\\Python310\\lib\\site-packages\\pandas\\_libs\\parsers.pyx:1952\u001b[0m, in \u001b[0;36mpandas._libs.parsers.raise_parser_error\u001b[1;34m()\u001b[0m\n",
      "\u001b[1;31mUnicodeDecodeError\u001b[0m: 'gbk' codec can't decode byte 0x84 in position 42: illegal multibyte sequence"
     ]
    }
   ],
   "source": [
    "dataPathNew = \"data/ME/ME_data_new.csv\"\n",
    "dataNew = pd.read_csv(dataPathNew,encoding='gbk')\n",
    "dataNew.head()"
   ]
  },
  {
   "cell_type": "markdown",
   "metadata": {},
   "source": [
    "## 处理数据\n",
    " 直观来看，需要对风向风力进行处理,首先将风向风力分开为两列,\n",
    " 对于风向，微风和暂无实况都归为无持续风向；对于风力，微风和缺失值设为1级"
   ]
  },
  {
   "cell_type": "code",
   "execution_count": null,
   "metadata": {},
   "outputs": [
    {
     "data": {
      "text/html": [
       "<div>\n",
       "<style scoped>\n",
       "    .dataframe tbody tr th:only-of-type {\n",
       "        vertical-align: middle;\n",
       "    }\n",
       "\n",
       "    .dataframe tbody tr th {\n",
       "        vertical-align: top;\n",
       "    }\n",
       "\n",
       "    .dataframe thead th {\n",
       "        text-align: right;\n",
       "    }\n",
       "</style>\n",
       "<table border=\"1\" class=\"dataframe\">\n",
       "  <thead>\n",
       "    <tr style=\"text-align: right;\">\n",
       "      <th></th>\n",
       "      <th>日期</th>\n",
       "      <th>星期</th>\n",
       "      <th>最高温度</th>\n",
       "      <th>最低温度</th>\n",
       "      <th>WindDirection</th>\n",
       "      <th>WindSpeed</th>\n",
       "      <th>天气</th>\n",
       "      <th>风向风力</th>\n",
       "      <th>年</th>\n",
       "      <th>月</th>\n",
       "      <th>日</th>\n",
       "    </tr>\n",
       "  </thead>\n",
       "  <tbody>\n",
       "    <tr>\n",
       "      <th>0</th>\n",
       "      <td>2014-01-01</td>\n",
       "      <td>3.0</td>\n",
       "      <td>10</td>\n",
       "      <td>4</td>\n",
       "      <td>无持续风向</td>\n",
       "      <td>小于3级</td>\n",
       "      <td>多云</td>\n",
       "      <td>微风 小于3级</td>\n",
       "      <td>2014</td>\n",
       "      <td>1</td>\n",
       "      <td>1</td>\n",
       "    </tr>\n",
       "    <tr>\n",
       "      <th>1</th>\n",
       "      <td>2014-01-02</td>\n",
       "      <td>4.0</td>\n",
       "      <td>8</td>\n",
       "      <td>6</td>\n",
       "      <td>无持续风向</td>\n",
       "      <td>小于3级</td>\n",
       "      <td>阴转小雨</td>\n",
       "      <td>微风 小于3级</td>\n",
       "      <td>2014</td>\n",
       "      <td>1</td>\n",
       "      <td>2</td>\n",
       "    </tr>\n",
       "    <tr>\n",
       "      <th>2</th>\n",
       "      <td>2014-01-03</td>\n",
       "      <td>5.0</td>\n",
       "      <td>9</td>\n",
       "      <td>5</td>\n",
       "      <td>无持续风向</td>\n",
       "      <td>小于3级</td>\n",
       "      <td>阴</td>\n",
       "      <td>微风 小于3级</td>\n",
       "      <td>2014</td>\n",
       "      <td>1</td>\n",
       "      <td>3</td>\n",
       "    </tr>\n",
       "    <tr>\n",
       "      <th>3</th>\n",
       "      <td>2014-01-04</td>\n",
       "      <td>6.0</td>\n",
       "      <td>13</td>\n",
       "      <td>5</td>\n",
       "      <td>无持续风向</td>\n",
       "      <td>小于3级</td>\n",
       "      <td>晴</td>\n",
       "      <td>微风 小于3级</td>\n",
       "      <td>2014</td>\n",
       "      <td>1</td>\n",
       "      <td>4</td>\n",
       "    </tr>\n",
       "    <tr>\n",
       "      <th>4</th>\n",
       "      <td>2014-01-05</td>\n",
       "      <td>7.0</td>\n",
       "      <td>10</td>\n",
       "      <td>6</td>\n",
       "      <td>无持续风向</td>\n",
       "      <td>小于3级</td>\n",
       "      <td>多云转小雨</td>\n",
       "      <td>微风 小于3级</td>\n",
       "      <td>2014</td>\n",
       "      <td>1</td>\n",
       "      <td>5</td>\n",
       "    </tr>\n",
       "  </tbody>\n",
       "</table>\n",
       "</div>"
      ],
      "text/plain": [
       "           日期   星期  最高温度  最低温度 WindDirection WindSpeed     天气     风向风力     年  \\\n",
       "0  2014-01-01  3.0    10     4         无持续风向      小于3级     多云  微风 小于3级  2014   \n",
       "1  2014-01-02  4.0     8     6         无持续风向      小于3级   阴转小雨  微风 小于3级  2014   \n",
       "2  2014-01-03  5.0     9     5         无持续风向      小于3级      阴  微风 小于3级  2014   \n",
       "3  2014-01-04  6.0    13     5         无持续风向      小于3级      晴  微风 小于3级  2014   \n",
       "4  2014-01-05  7.0    10     6         无持续风向      小于3级  多云转小雨  微风 小于3级  2014   \n",
       "\n",
       "   月  日  \n",
       "0  1  1  \n",
       "1  1  2  \n",
       "2  1  3  \n",
       "3  1  4  \n",
       "4  1  5  "
      ]
     },
     "execution_count": 88,
     "metadata": {},
     "output_type": "execute_result"
    }
   ],
   "source": [
    "data_wind_temp = data['风向风力'].str.split(' ', expand=True)\n",
    "winddata=[]\n",
    "windPower=[]\n",
    "for i in range(data_wind_temp.shape[0]):\n",
    "     if data_wind_temp[0][i]==\"微风\" or data_wind_temp[0][i]==\"暂无实况\":\n",
    "          winddata.append(\"无持续风向\")\n",
    "          windPower.append(data_wind_temp[1][i])\n",
    "     elif data_wind_temp[1][i]==\"\" or data_wind_temp[1][i]==\"微风\":\n",
    "          winddata.append(data_wind_temp[0][i])\n",
    "          windPower.append(\"1级\")\n",
    "     else:\n",
    "          winddata.append(data_wind_temp[0][i])\n",
    "          windPower.append(data_wind_temp[1][i])\n",
    "dataNew.insert(4,\"WindDirection\",winddata,True)\n",
    "dataNew.insert(5,\"WindSpeed\",windPower,True)\n",
    "dataNew.head()"
   ]
  },
  {
   "cell_type": "markdown",
   "metadata": {},
   "source": [
    "### 风向处理\n",
    "观察各指标的个数，可见无持续风向数量最多，之后的每项指标下降幅度差不多，因此不合并数据进行独热编码"
   ]
  },
  {
   "cell_type": "code",
   "execution_count": null,
   "metadata": {},
   "outputs": [
    {
     "name": "stdout",
     "output_type": "stream",
     "text": [
      "无持续风向    919\n",
      "东北风      524\n",
      "东风       335\n",
      "西北风      297\n",
      "北风       216\n",
      "西风       157\n",
      "东南风      154\n",
      "西南风      128\n",
      "南风        68\n",
      "Name: WindDirection, dtype: int64\n"
     ]
    }
   ],
   "source": [
    "print(dataNew['WindDirection'].value_counts())"
   ]
  },
  {
   "cell_type": "code",
   "execution_count": null,
   "metadata": {},
   "outputs": [
    {
     "name": "stdout",
     "output_type": "stream",
     "text": [
      "   东北风  东南风  东风  北风  南风  无持续风向  西北风  西南风  西风\n",
      "0    0    0   0   0   0      1    0    0   0\n",
      "1    0    0   0   0   0      1    0    0   0\n",
      "2    0    0   0   0   0      1    0    0   0\n",
      "3    0    0   0   0   0      1    0    0   0\n",
      "4    0    0   0   0   0      1    0    0   0\n",
      "5    0    0   0   0   0      1    0    0   0\n",
      "6    0    0   0   0   0      1    0    0   0\n",
      "7    0    0   0   0   0      1    0    0   0\n",
      "8    0    0   0   0   0      1    0    0   0\n",
      "9    0    0   0   0   0      1    0    0   0\n",
      "              日期   星期  最高温度  最低温度 WindDirection WindSpeed     天气     风向风力  \\\n",
      "0     2014-01-01  3.0    10     4         无持续风向      小于3级     多云  微风 小于3级   \n",
      "1     2014-01-02  4.0     8     6         无持续风向      小于3级   阴转小雨  微风 小于3级   \n",
      "2     2014-01-03  5.0     9     5         无持续风向      小于3级      阴  微风 小于3级   \n",
      "3     2014-01-04  6.0    13     5         无持续风向      小于3级      晴  微风 小于3级   \n",
      "4     2014-01-05  7.0    10     6         无持续风向      小于3级  多云转小雨  微风 小于3级   \n",
      "...          ...  ...   ...   ...           ...       ...    ...      ...   \n",
      "2793  2021-08-27  5.0    23    17            南风        2级      晴    南风 2级   \n",
      "2794  2021-08-28  6.0    20    19            北风        1级  小雨到中雨    北风 1级   \n",
      "2795  2021-08-29  7.0    22    19           西北风        1级     多云   西北风 1级   \n",
      "2796  2021-08-30  1.0    31    22           东北风        1级     多云   东北风 1级   \n",
      "2797  2021-08-31  2.0    29    22            西风        2级     多云    西风 2级   \n",
      "\n",
      "         年  月   日  东北风  东南风  东风  北风  南风  无持续风向  西北风  西南风  西风  \n",
      "0     2014  1   1    0    0   0   0   0      1    0    0   0  \n",
      "1     2014  1   2    0    0   0   0   0      1    0    0   0  \n",
      "2     2014  1   3    0    0   0   0   0      1    0    0   0  \n",
      "3     2014  1   4    0    0   0   0   0      1    0    0   0  \n",
      "4     2014  1   5    0    0   0   0   0      1    0    0   0  \n",
      "...    ... ..  ..  ...  ...  ..  ..  ..    ...  ...  ...  ..  \n",
      "2793  2021  8  27    0    0   0   0   1      0    0    0   0  \n",
      "2794  2021  8  28    0    0   0   1   0      0    0    0   0  \n",
      "2795  2021  8  29    0    0   0   0   0      0    1    0   0  \n",
      "2796  2021  8  30    1    0   0   0   0      0    0    0   0  \n",
      "2797  2021  8  31    0    0   0   0   0      0    0    0   1  \n",
      "\n",
      "[2798 rows x 20 columns]\n"
     ]
    }
   ],
   "source": [
    "df_fx = pd.get_dummies(dataNew['WindDirection'])\n",
    "print(df_fx.head(10))\n",
    "dataNew = dataNew.join(df_fx)\n",
    "print(dataNew)"
   ]
  },
  {
   "cell_type": "markdown",
   "metadata": {},
   "source": [
    "###  风速处理\n",
    "观察各指标的个数，可见二级、小于三级、一级数量远远大于剩下的个数，因此将数据分为四类：二级、小于三级、一级、大于三级"
   ]
  },
  {
   "cell_type": "code",
   "execution_count": null,
   "metadata": {},
   "outputs": [
    {
     "name": "stdout",
     "output_type": "stream",
     "text": [
      "2级      998\n",
      "小于3级    918\n",
      "1级      812\n",
      "3级       59\n",
      "4级        9\n",
      "          1\n",
      "5级        1\n",
      "Name: WindSpeed, dtype: int64\n"
     ]
    }
   ],
   "source": [
    "\n",
    "print(dataNew['WindSpeed'].value_counts())"
   ]
  },
  {
   "cell_type": "code",
   "execution_count": null,
   "metadata": {},
   "outputs": [],
   "source": []
  },
  {
   "cell_type": "markdown",
   "metadata": {},
   "source": [
    "## 3.3 类型转换结果"
   ]
  },
  {
   "cell_type": "code",
   "execution_count": null,
   "metadata": {},
   "outputs": [],
   "source": [
    "# data.info()"
   ]
  },
  {
   "cell_type": "markdown",
   "metadata": {},
   "source": [
    "# 4. 写入新文件"
   ]
  },
  {
   "cell_type": "code",
   "execution_count": null,
   "metadata": {},
   "outputs": [],
   "source": [
    "# data.to_csv(\"data/ME/ME_data_new.csv\", sep=',', header=True, index=False, encoding='utf-8')"
   ]
  }
 ],
 "metadata": {
  "kernelspec": {
   "display_name": "Python 3",
   "language": "python",
   "name": "python3"
  },
  "language_info": {
   "codemirror_mode": {
    "name": "ipython",
    "version": 3
   },
   "file_extension": ".py",
   "mimetype": "text/x-python",
   "name": "python",
   "nbconvert_exporter": "python",
   "pygments_lexer": "ipython3",
   "version": "3.10.0"
  }
 },
 "nbformat": 4,
 "nbformat_minor": 0
}
