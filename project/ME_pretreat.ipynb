{
 "cells": [
  {
   "cell_type": "markdown",
   "metadata": {
    "collapsed": true
   },
   "source": [
    "# 数据预处理"
   ]
  },
  {
   "cell_type": "code",
   "execution_count": 1,
   "metadata": {},
   "outputs": [],
   "source": [
    "import numpy as np\n",
    "import pandas as pd"
   ]
  },
  {
   "cell_type": "markdown",
   "metadata": {},
   "source": [
    "## 1. 导入数据"
   ]
  },
  {
   "cell_type": "code",
   "execution_count": 2,
   "metadata": {},
   "outputs": [
    {
     "data": {
      "text/html": [
       "<div>\n",
       "<style scoped>\n",
       "    .dataframe tbody tr th:only-of-type {\n",
       "        vertical-align: middle;\n",
       "    }\n",
       "\n",
       "    .dataframe tbody tr th {\n",
       "        vertical-align: top;\n",
       "    }\n",
       "\n",
       "    .dataframe thead th {\n",
       "        text-align: right;\n",
       "    }\n",
       "</style>\n",
       "<table border=\"1\" class=\"dataframe\">\n",
       "  <thead>\n",
       "    <tr style=\"text-align: right;\">\n",
       "      <th></th>\n",
       "      <th>日期</th>\n",
       "      <th>星期</th>\n",
       "      <th>最高温度</th>\n",
       "      <th>最低温度</th>\n",
       "      <th>天气</th>\n",
       "      <th>风向风力</th>\n",
       "    </tr>\n",
       "  </thead>\n",
       "  <tbody>\n",
       "    <tr>\n",
       "      <th>0</th>\n",
       "      <td>2014-01-01</td>\n",
       "      <td>星期三</td>\n",
       "      <td>10℃</td>\n",
       "      <td>4℃</td>\n",
       "      <td>多云</td>\n",
       "      <td>微风 小于3级</td>\n",
       "    </tr>\n",
       "    <tr>\n",
       "      <th>1</th>\n",
       "      <td>2014-01-02</td>\n",
       "      <td>星期四</td>\n",
       "      <td>8℃</td>\n",
       "      <td>6℃</td>\n",
       "      <td>阴转小雨</td>\n",
       "      <td>微风 小于3级</td>\n",
       "    </tr>\n",
       "    <tr>\n",
       "      <th>2</th>\n",
       "      <td>2014-01-03</td>\n",
       "      <td>星期五</td>\n",
       "      <td>9℃</td>\n",
       "      <td>5℃</td>\n",
       "      <td>阴</td>\n",
       "      <td>微风 小于3级</td>\n",
       "    </tr>\n",
       "    <tr>\n",
       "      <th>3</th>\n",
       "      <td>2014-01-04</td>\n",
       "      <td>星期六</td>\n",
       "      <td>13℃</td>\n",
       "      <td>5℃</td>\n",
       "      <td>晴</td>\n",
       "      <td>微风 小于3级</td>\n",
       "    </tr>\n",
       "    <tr>\n",
       "      <th>4</th>\n",
       "      <td>2014-01-05</td>\n",
       "      <td>星期日</td>\n",
       "      <td>10℃</td>\n",
       "      <td>6℃</td>\n",
       "      <td>多云转小雨</td>\n",
       "      <td>微风 小于3级</td>\n",
       "    </tr>\n",
       "  </tbody>\n",
       "</table>\n",
       "</div>"
      ],
      "text/plain": [
       "           日期   星期 最高温度 最低温度     天气     风向风力\n",
       "0  2014-01-01  星期三  10℃   4℃     多云  微风 小于3级\n",
       "1  2014-01-02  星期四   8℃   6℃   阴转小雨  微风 小于3级\n",
       "2  2014-01-03  星期五   9℃   5℃      阴  微风 小于3级\n",
       "3  2014-01-04  星期六  13℃   5℃      晴  微风 小于3级\n",
       "4  2014-01-05  星期日  10℃   6℃  多云转小雨  微风 小于3级"
      ]
     },
     "execution_count": 2,
     "metadata": {},
     "output_type": "execute_result"
    }
   ],
   "source": [
    "dataPath = \"data/ME/ME_data.csv\"\n",
    "data = pd.read_csv(dataPath)\n",
    "data.head()"
   ]
  },
  {
   "cell_type": "code",
   "execution_count": 3,
   "metadata": {},
   "outputs": [
    {
     "data": {
      "text/plain": [
       "(2889, 6)"
      ]
     },
     "execution_count": 3,
     "metadata": {},
     "output_type": "execute_result"
    }
   ],
   "source": [
    "data.shape"
   ]
  },
  {
   "cell_type": "code",
   "execution_count": 4,
   "metadata": {},
   "outputs": [
    {
     "data": {
      "text/plain": [
       "(2798, 6)"
      ]
     },
     "execution_count": 4,
     "metadata": {},
     "output_type": "execute_result"
    }
   ],
   "source": [
    "data = data[data['日期']!=\"日期\"]  # 去除不必要的列名\n",
    "data = data.reset_index(drop=True)  # 重新编排索引\n",
    "data.shape"
   ]
  },
  {
   "cell_type": "markdown",
   "metadata": {},
   "source": [
    "# 2. 添加“年”，“月”， “日”"
   ]
  },
  {
   "cell_type": "markdown",
   "metadata": {},
   "source": [
    "## 2.1 切分日期"
   ]
  },
  {
   "cell_type": "code",
   "execution_count": 5,
   "metadata": {},
   "outputs": [
    {
     "data": {
      "text/html": [
       "<div>\n",
       "<style scoped>\n",
       "    .dataframe tbody tr th:only-of-type {\n",
       "        vertical-align: middle;\n",
       "    }\n",
       "\n",
       "    .dataframe tbody tr th {\n",
       "        vertical-align: top;\n",
       "    }\n",
       "\n",
       "    .dataframe thead th {\n",
       "        text-align: right;\n",
       "    }\n",
       "</style>\n",
       "<table border=\"1\" class=\"dataframe\">\n",
       "  <thead>\n",
       "    <tr style=\"text-align: right;\">\n",
       "      <th></th>\n",
       "      <th>0</th>\n",
       "      <th>1</th>\n",
       "      <th>2</th>\n",
       "    </tr>\n",
       "  </thead>\n",
       "  <tbody>\n",
       "    <tr>\n",
       "      <th>0</th>\n",
       "      <td>2014</td>\n",
       "      <td>01</td>\n",
       "      <td>01</td>\n",
       "    </tr>\n",
       "    <tr>\n",
       "      <th>1</th>\n",
       "      <td>2014</td>\n",
       "      <td>01</td>\n",
       "      <td>02</td>\n",
       "    </tr>\n",
       "    <tr>\n",
       "      <th>2</th>\n",
       "      <td>2014</td>\n",
       "      <td>01</td>\n",
       "      <td>03</td>\n",
       "    </tr>\n",
       "    <tr>\n",
       "      <th>3</th>\n",
       "      <td>2014</td>\n",
       "      <td>01</td>\n",
       "      <td>04</td>\n",
       "    </tr>\n",
       "    <tr>\n",
       "      <th>4</th>\n",
       "      <td>2014</td>\n",
       "      <td>01</td>\n",
       "      <td>05</td>\n",
       "    </tr>\n",
       "  </tbody>\n",
       "</table>\n",
       "</div>"
      ],
      "text/plain": [
       "      0   1   2\n",
       "0  2014  01  01\n",
       "1  2014  01  02\n",
       "2  2014  01  03\n",
       "3  2014  01  04\n",
       "4  2014  01  05"
      ]
     },
     "execution_count": 5,
     "metadata": {},
     "output_type": "execute_result"
    }
   ],
   "source": [
    "data_temp = data['日期'].str.split('-', expand=True)\n",
    "data_temp.head()"
   ]
  },
  {
   "cell_type": "markdown",
   "metadata": {},
   "source": [
    "## 2.2 合并数据"
   ]
  },
  {
   "cell_type": "code",
   "execution_count": 6,
   "metadata": {},
   "outputs": [
    {
     "data": {
      "text/html": [
       "<div>\n",
       "<style scoped>\n",
       "    .dataframe tbody tr th:only-of-type {\n",
       "        vertical-align: middle;\n",
       "    }\n",
       "\n",
       "    .dataframe tbody tr th {\n",
       "        vertical-align: top;\n",
       "    }\n",
       "\n",
       "    .dataframe thead th {\n",
       "        text-align: right;\n",
       "    }\n",
       "</style>\n",
       "<table border=\"1\" class=\"dataframe\">\n",
       "  <thead>\n",
       "    <tr style=\"text-align: right;\">\n",
       "      <th></th>\n",
       "      <th>日期</th>\n",
       "      <th>星期</th>\n",
       "      <th>最高温度</th>\n",
       "      <th>最低温度</th>\n",
       "      <th>天气</th>\n",
       "      <th>风向风力</th>\n",
       "      <th>0</th>\n",
       "      <th>1</th>\n",
       "      <th>2</th>\n",
       "    </tr>\n",
       "  </thead>\n",
       "  <tbody>\n",
       "    <tr>\n",
       "      <th>0</th>\n",
       "      <td>2014-01-01</td>\n",
       "      <td>星期三</td>\n",
       "      <td>10℃</td>\n",
       "      <td>4℃</td>\n",
       "      <td>多云</td>\n",
       "      <td>微风 小于3级</td>\n",
       "      <td>2014</td>\n",
       "      <td>01</td>\n",
       "      <td>01</td>\n",
       "    </tr>\n",
       "    <tr>\n",
       "      <th>1</th>\n",
       "      <td>2014-01-02</td>\n",
       "      <td>星期四</td>\n",
       "      <td>8℃</td>\n",
       "      <td>6℃</td>\n",
       "      <td>阴转小雨</td>\n",
       "      <td>微风 小于3级</td>\n",
       "      <td>2014</td>\n",
       "      <td>01</td>\n",
       "      <td>02</td>\n",
       "    </tr>\n",
       "    <tr>\n",
       "      <th>2</th>\n",
       "      <td>2014-01-03</td>\n",
       "      <td>星期五</td>\n",
       "      <td>9℃</td>\n",
       "      <td>5℃</td>\n",
       "      <td>阴</td>\n",
       "      <td>微风 小于3级</td>\n",
       "      <td>2014</td>\n",
       "      <td>01</td>\n",
       "      <td>03</td>\n",
       "    </tr>\n",
       "    <tr>\n",
       "      <th>3</th>\n",
       "      <td>2014-01-04</td>\n",
       "      <td>星期六</td>\n",
       "      <td>13℃</td>\n",
       "      <td>5℃</td>\n",
       "      <td>晴</td>\n",
       "      <td>微风 小于3级</td>\n",
       "      <td>2014</td>\n",
       "      <td>01</td>\n",
       "      <td>04</td>\n",
       "    </tr>\n",
       "    <tr>\n",
       "      <th>4</th>\n",
       "      <td>2014-01-05</td>\n",
       "      <td>星期日</td>\n",
       "      <td>10℃</td>\n",
       "      <td>6℃</td>\n",
       "      <td>多云转小雨</td>\n",
       "      <td>微风 小于3级</td>\n",
       "      <td>2014</td>\n",
       "      <td>01</td>\n",
       "      <td>05</td>\n",
       "    </tr>\n",
       "  </tbody>\n",
       "</table>\n",
       "</div>"
      ],
      "text/plain": [
       "           日期   星期 最高温度 最低温度     天气     风向风力     0   1   2\n",
       "0  2014-01-01  星期三  10℃   4℃     多云  微风 小于3级  2014  01  01\n",
       "1  2014-01-02  星期四   8℃   6℃   阴转小雨  微风 小于3级  2014  01  02\n",
       "2  2014-01-03  星期五   9℃   5℃      阴  微风 小于3级  2014  01  03\n",
       "3  2014-01-04  星期六  13℃   5℃      晴  微风 小于3级  2014  01  04\n",
       "4  2014-01-05  星期日  10℃   6℃  多云转小雨  微风 小于3级  2014  01  05"
      ]
     },
     "execution_count": 6,
     "metadata": {},
     "output_type": "execute_result"
    }
   ],
   "source": [
    "data = pd.merge(data, data_temp, how='left', left_index=True, right_index=True)\n",
    "data.head()"
   ]
  },
  {
   "cell_type": "markdown",
   "metadata": {},
   "source": [
    "## 2.3 修改列名"
   ]
  },
  {
   "cell_type": "code",
   "execution_count": 7,
   "metadata": {},
   "outputs": [
    {
     "data": {
      "text/html": [
       "<div>\n",
       "<style scoped>\n",
       "    .dataframe tbody tr th:only-of-type {\n",
       "        vertical-align: middle;\n",
       "    }\n",
       "\n",
       "    .dataframe tbody tr th {\n",
       "        vertical-align: top;\n",
       "    }\n",
       "\n",
       "    .dataframe thead th {\n",
       "        text-align: right;\n",
       "    }\n",
       "</style>\n",
       "<table border=\"1\" class=\"dataframe\">\n",
       "  <thead>\n",
       "    <tr style=\"text-align: right;\">\n",
       "      <th></th>\n",
       "      <th>日期</th>\n",
       "      <th>星期</th>\n",
       "      <th>最高温度</th>\n",
       "      <th>最低温度</th>\n",
       "      <th>天气</th>\n",
       "      <th>风向风力</th>\n",
       "      <th>年</th>\n",
       "      <th>月</th>\n",
       "      <th>日</th>\n",
       "    </tr>\n",
       "  </thead>\n",
       "  <tbody>\n",
       "    <tr>\n",
       "      <th>0</th>\n",
       "      <td>2014-01-01</td>\n",
       "      <td>星期三</td>\n",
       "      <td>10℃</td>\n",
       "      <td>4℃</td>\n",
       "      <td>多云</td>\n",
       "      <td>微风 小于3级</td>\n",
       "      <td>2014</td>\n",
       "      <td>01</td>\n",
       "      <td>01</td>\n",
       "    </tr>\n",
       "    <tr>\n",
       "      <th>1</th>\n",
       "      <td>2014-01-02</td>\n",
       "      <td>星期四</td>\n",
       "      <td>8℃</td>\n",
       "      <td>6℃</td>\n",
       "      <td>阴转小雨</td>\n",
       "      <td>微风 小于3级</td>\n",
       "      <td>2014</td>\n",
       "      <td>01</td>\n",
       "      <td>02</td>\n",
       "    </tr>\n",
       "    <tr>\n",
       "      <th>2</th>\n",
       "      <td>2014-01-03</td>\n",
       "      <td>星期五</td>\n",
       "      <td>9℃</td>\n",
       "      <td>5℃</td>\n",
       "      <td>阴</td>\n",
       "      <td>微风 小于3级</td>\n",
       "      <td>2014</td>\n",
       "      <td>01</td>\n",
       "      <td>03</td>\n",
       "    </tr>\n",
       "    <tr>\n",
       "      <th>3</th>\n",
       "      <td>2014-01-04</td>\n",
       "      <td>星期六</td>\n",
       "      <td>13℃</td>\n",
       "      <td>5℃</td>\n",
       "      <td>晴</td>\n",
       "      <td>微风 小于3级</td>\n",
       "      <td>2014</td>\n",
       "      <td>01</td>\n",
       "      <td>04</td>\n",
       "    </tr>\n",
       "    <tr>\n",
       "      <th>4</th>\n",
       "      <td>2014-01-05</td>\n",
       "      <td>星期日</td>\n",
       "      <td>10℃</td>\n",
       "      <td>6℃</td>\n",
       "      <td>多云转小雨</td>\n",
       "      <td>微风 小于3级</td>\n",
       "      <td>2014</td>\n",
       "      <td>01</td>\n",
       "      <td>05</td>\n",
       "    </tr>\n",
       "  </tbody>\n",
       "</table>\n",
       "</div>"
      ],
      "text/plain": [
       "           日期   星期 最高温度 最低温度     天气     风向风力     年   月   日\n",
       "0  2014-01-01  星期三  10℃   4℃     多云  微风 小于3级  2014  01  01\n",
       "1  2014-01-02  星期四   8℃   6℃   阴转小雨  微风 小于3级  2014  01  02\n",
       "2  2014-01-03  星期五   9℃   5℃      阴  微风 小于3级  2014  01  03\n",
       "3  2014-01-04  星期六  13℃   5℃      晴  微风 小于3级  2014  01  04\n",
       "4  2014-01-05  星期日  10℃   6℃  多云转小雨  微风 小于3级  2014  01  05"
      ]
     },
     "execution_count": 7,
     "metadata": {},
     "output_type": "execute_result"
    }
   ],
   "source": [
    "data.rename(columns={0: '年', 1: '月', 2: '日'}, inplace=True) \n",
    "data.head()"
   ]
  },
  {
   "cell_type": "markdown",
   "metadata": {},
   "source": [
    "# 3. 类型转换"
   ]
  },
  {
   "cell_type": "markdown",
   "metadata": {},
   "source": [
    "## 3.1 数值类型"
   ]
  },
  {
   "cell_type": "markdown",
   "metadata": {},
   "source": [
    "### 3.1.1 日期"
   ]
  },
  {
   "cell_type": "code",
   "execution_count": 8,
   "metadata": {},
   "outputs": [
    {
     "data": {
      "text/html": [
       "<div>\n",
       "<style scoped>\n",
       "    .dataframe tbody tr th:only-of-type {\n",
       "        vertical-align: middle;\n",
       "    }\n",
       "\n",
       "    .dataframe tbody tr th {\n",
       "        vertical-align: top;\n",
       "    }\n",
       "\n",
       "    .dataframe thead th {\n",
       "        text-align: right;\n",
       "    }\n",
       "</style>\n",
       "<table border=\"1\" class=\"dataframe\">\n",
       "  <thead>\n",
       "    <tr style=\"text-align: right;\">\n",
       "      <th></th>\n",
       "      <th>日期</th>\n",
       "      <th>星期</th>\n",
       "      <th>最高温度</th>\n",
       "      <th>最低温度</th>\n",
       "      <th>天气</th>\n",
       "      <th>风向风力</th>\n",
       "      <th>年</th>\n",
       "      <th>月</th>\n",
       "      <th>日</th>\n",
       "    </tr>\n",
       "  </thead>\n",
       "  <tbody>\n",
       "    <tr>\n",
       "      <th>0</th>\n",
       "      <td>2014-01-01</td>\n",
       "      <td>3.0</td>\n",
       "      <td>10℃</td>\n",
       "      <td>4℃</td>\n",
       "      <td>多云</td>\n",
       "      <td>微风 小于3级</td>\n",
       "      <td>2014</td>\n",
       "      <td>01</td>\n",
       "      <td>01</td>\n",
       "    </tr>\n",
       "    <tr>\n",
       "      <th>1</th>\n",
       "      <td>2014-01-02</td>\n",
       "      <td>4.0</td>\n",
       "      <td>8℃</td>\n",
       "      <td>6℃</td>\n",
       "      <td>阴转小雨</td>\n",
       "      <td>微风 小于3级</td>\n",
       "      <td>2014</td>\n",
       "      <td>01</td>\n",
       "      <td>02</td>\n",
       "    </tr>\n",
       "    <tr>\n",
       "      <th>2</th>\n",
       "      <td>2014-01-03</td>\n",
       "      <td>5.0</td>\n",
       "      <td>9℃</td>\n",
       "      <td>5℃</td>\n",
       "      <td>阴</td>\n",
       "      <td>微风 小于3级</td>\n",
       "      <td>2014</td>\n",
       "      <td>01</td>\n",
       "      <td>03</td>\n",
       "    </tr>\n",
       "    <tr>\n",
       "      <th>3</th>\n",
       "      <td>2014-01-04</td>\n",
       "      <td>6.0</td>\n",
       "      <td>13℃</td>\n",
       "      <td>5℃</td>\n",
       "      <td>晴</td>\n",
       "      <td>微风 小于3级</td>\n",
       "      <td>2014</td>\n",
       "      <td>01</td>\n",
       "      <td>04</td>\n",
       "    </tr>\n",
       "    <tr>\n",
       "      <th>4</th>\n",
       "      <td>2014-01-05</td>\n",
       "      <td>7.0</td>\n",
       "      <td>10℃</td>\n",
       "      <td>6℃</td>\n",
       "      <td>多云转小雨</td>\n",
       "      <td>微风 小于3级</td>\n",
       "      <td>2014</td>\n",
       "      <td>01</td>\n",
       "      <td>05</td>\n",
       "    </tr>\n",
       "  </tbody>\n",
       "</table>\n",
       "</div>"
      ],
      "text/plain": [
       "           日期   星期 最高温度 最低温度     天气     风向风力     年   月   日\n",
       "0  2014-01-01  3.0  10℃   4℃     多云  微风 小于3级  2014  01  01\n",
       "1  2014-01-02  4.0   8℃   6℃   阴转小雨  微风 小于3级  2014  01  02\n",
       "2  2014-01-03  5.0   9℃   5℃      阴  微风 小于3级  2014  01  03\n",
       "3  2014-01-04  6.0  13℃   5℃      晴  微风 小于3级  2014  01  04\n",
       "4  2014-01-05  7.0  10℃   6℃  多云转小雨  微风 小于3级  2014  01  05"
      ]
     },
     "execution_count": 8,
     "metadata": {},
     "output_type": "execute_result"
    }
   ],
   "source": [
    "data['星期'] = data['星期'].map({'星期一': 1, '星期二': 2, '星期三': 3, '星期四': 4, '星期五': 5, '星期六': 6, '星期日': 7})\n",
    "data.head()"
   ]
  },
  {
   "cell_type": "markdown",
   "metadata": {},
   "source": [
    "### 3.1.2 最高温度和最低温度"
   ]
  },
  {
   "cell_type": "code",
   "execution_count": 9,
   "metadata": {},
   "outputs": [
    {
     "data": {
      "text/html": [
       "<div>\n",
       "<style scoped>\n",
       "    .dataframe tbody tr th:only-of-type {\n",
       "        vertical-align: middle;\n",
       "    }\n",
       "\n",
       "    .dataframe tbody tr th {\n",
       "        vertical-align: top;\n",
       "    }\n",
       "\n",
       "    .dataframe thead th {\n",
       "        text-align: right;\n",
       "    }\n",
       "</style>\n",
       "<table border=\"1\" class=\"dataframe\">\n",
       "  <thead>\n",
       "    <tr style=\"text-align: right;\">\n",
       "      <th></th>\n",
       "      <th>日期</th>\n",
       "      <th>星期</th>\n",
       "      <th>最高温度</th>\n",
       "      <th>最低温度</th>\n",
       "      <th>天气</th>\n",
       "      <th>风向风力</th>\n",
       "      <th>年</th>\n",
       "      <th>月</th>\n",
       "      <th>日</th>\n",
       "    </tr>\n",
       "  </thead>\n",
       "  <tbody>\n",
       "    <tr>\n",
       "      <th>0</th>\n",
       "      <td>2014-01-01</td>\n",
       "      <td>3.0</td>\n",
       "      <td>10</td>\n",
       "      <td>4</td>\n",
       "      <td>多云</td>\n",
       "      <td>微风 小于3级</td>\n",
       "      <td>2014</td>\n",
       "      <td>01</td>\n",
       "      <td>01</td>\n",
       "    </tr>\n",
       "    <tr>\n",
       "      <th>1</th>\n",
       "      <td>2014-01-02</td>\n",
       "      <td>4.0</td>\n",
       "      <td>8</td>\n",
       "      <td>6</td>\n",
       "      <td>阴转小雨</td>\n",
       "      <td>微风 小于3级</td>\n",
       "      <td>2014</td>\n",
       "      <td>01</td>\n",
       "      <td>02</td>\n",
       "    </tr>\n",
       "    <tr>\n",
       "      <th>2</th>\n",
       "      <td>2014-01-03</td>\n",
       "      <td>5.0</td>\n",
       "      <td>9</td>\n",
       "      <td>5</td>\n",
       "      <td>阴</td>\n",
       "      <td>微风 小于3级</td>\n",
       "      <td>2014</td>\n",
       "      <td>01</td>\n",
       "      <td>03</td>\n",
       "    </tr>\n",
       "    <tr>\n",
       "      <th>3</th>\n",
       "      <td>2014-01-04</td>\n",
       "      <td>6.0</td>\n",
       "      <td>13</td>\n",
       "      <td>5</td>\n",
       "      <td>晴</td>\n",
       "      <td>微风 小于3级</td>\n",
       "      <td>2014</td>\n",
       "      <td>01</td>\n",
       "      <td>04</td>\n",
       "    </tr>\n",
       "    <tr>\n",
       "      <th>4</th>\n",
       "      <td>2014-01-05</td>\n",
       "      <td>7.0</td>\n",
       "      <td>10</td>\n",
       "      <td>6</td>\n",
       "      <td>多云转小雨</td>\n",
       "      <td>微风 小于3级</td>\n",
       "      <td>2014</td>\n",
       "      <td>01</td>\n",
       "      <td>05</td>\n",
       "    </tr>\n",
       "  </tbody>\n",
       "</table>\n",
       "</div>"
      ],
      "text/plain": [
       "           日期   星期 最高温度 最低温度     天气     风向风力     年   月   日\n",
       "0  2014-01-01  3.0   10    4     多云  微风 小于3级  2014  01  01\n",
       "1  2014-01-02  4.0    8    6   阴转小雨  微风 小于3级  2014  01  02\n",
       "2  2014-01-03  5.0    9    5      阴  微风 小于3级  2014  01  03\n",
       "3  2014-01-04  6.0   13    5      晴  微风 小于3级  2014  01  04\n",
       "4  2014-01-05  7.0   10    6  多云转小雨  微风 小于3级  2014  01  05"
      ]
     },
     "execution_count": 9,
     "metadata": {},
     "output_type": "execute_result"
    }
   ],
   "source": [
    "data_high_temp = data['最高温度'].str.split('℃', expand=True)\n",
    "data_low_temp = data['最低温度'].str.split('℃', expand=True)\n",
    "\n",
    "data['最高温度'] = data_high_temp[0]\n",
    "data['最低温度'] = data_low_temp[0]\n",
    "data.head()"
   ]
  },
  {
   "cell_type": "markdown",
   "metadata": {},
   "source": [
    "# 待解决\n",
    "\n",
    "# 天气、风向风力"
   ]
  },
  {
   "cell_type": "code",
   "execution_count": null,
   "metadata": {},
   "outputs": [],
   "source": []
  },
  {
   "cell_type": "code",
   "execution_count": null,
   "metadata": {},
   "outputs": [],
   "source": []
  },
  {
   "cell_type": "code",
   "execution_count": null,
   "metadata": {},
   "outputs": [],
   "source": []
  },
  {
   "cell_type": "code",
   "execution_count": null,
   "metadata": {},
   "outputs": [],
   "source": []
  },
  {
   "cell_type": "code",
   "execution_count": null,
   "metadata": {},
   "outputs": [],
   "source": []
  },
  {
   "cell_type": "markdown",
   "metadata": {},
   "source": [
    "## 3.3 类型转换结果"
   ]
  },
  {
   "cell_type": "code",
   "execution_count": 10,
   "metadata": {},
   "outputs": [
    {
     "name": "stdout",
     "output_type": "stream",
     "text": [
      "<class 'pandas.core.frame.DataFrame'>\n",
      "RangeIndex: 2798 entries, 0 to 2797\n",
      "Data columns (total 9 columns):\n",
      " #   Column  Non-Null Count  Dtype  \n",
      "---  ------  --------------  -----  \n",
      " 0   日期      2798 non-null   object \n",
      " 1   星期      2794 non-null   float64\n",
      " 2   最高温度    2798 non-null   object \n",
      " 3   最低温度    2798 non-null   object \n",
      " 4   天气      2798 non-null   object \n",
      " 5   风向风力    2798 non-null   object \n",
      " 6   年       2798 non-null   object \n",
      " 7   月       2798 non-null   object \n",
      " 8   日       2798 non-null   object \n",
      "dtypes: float64(1), object(8)\n",
      "memory usage: 196.9+ KB\n"
     ]
    }
   ],
   "source": [
    "data.info()"
   ]
  },
  {
   "cell_type": "markdown",
   "metadata": {},
   "source": [
    "# 4. 写入新文件"
   ]
  },
  {
   "cell_type": "code",
   "execution_count": 11,
   "metadata": {},
   "outputs": [],
   "source": [
    "# data.to_csv(\"data/ME/ME_data_new.csv\", sep=',', header=True, index=False, encoding='utf-8')"
   ]
  }
 ],
 "metadata": {
  "kernelspec": {
   "display_name": "Python 3",
   "language": "python",
   "name": "python3"
  },
  "language_info": {
   "codemirror_mode": {
    "name": "ipython",
    "version": 3
   },
   "file_extension": ".py",
   "mimetype": "text/x-python",
   "name": "python",
   "nbconvert_exporter": "python",
   "pygments_lexer": "ipython3",
   "version": "3.8.12"
  }
 },
 "nbformat": 4,
 "nbformat_minor": 0
}
