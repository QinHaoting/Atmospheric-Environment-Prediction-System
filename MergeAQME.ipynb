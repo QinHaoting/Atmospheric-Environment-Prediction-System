{
 "cells": [
  {
   "cell_type": "markdown",
   "metadata": {},
   "source": [
    "## 比对AQ、ME日期，使数据统一，组合成新表"
   ]
  },
  {
   "cell_type": "code",
   "execution_count": 11,
   "metadata": {},
   "outputs": [],
   "source": [
    "import numpy as np\n",
    "import pandas as pd"
   ]
  },
  {
   "cell_type": "markdown",
   "metadata": {},
   "source": [
    "取清洗之后的AQ、ME数据，去除不需要的列"
   ]
  },
  {
   "cell_type": "code",
   "execution_count": 12,
   "metadata": {},
   "outputs": [],
   "source": [
    "dataPathAQ = \"project\\data\\AQ_data_new.csv\"\n",
    "dataAQ = pd.read_csv(dataPathAQ)\n",
    "dataPathME = \"project\\data\\ME_data_clear.csv\"\n",
    "dataME=pd.read_csv(dataPathME)\n",
    "dataAQ=dataAQ.drop(columns=[\"日期\",\"质量等级\",\"当天AQI排名\",\"年\",\"月\",\"日\"])\n",
    "dataME=dataME.drop(columns=[\"星期\",\"WindDirection\",\"WindSpeed\",\"天气\",\"风向风力\",\"年\",\"月\",\"日\"])\n",
    "data=dataME.join(dataAQ)\n",
    "# data.to_csv(\"project\\data\\FinalData.csv\")\n",
    "data.to_csv('project\\data\\分析后.csv', encoding='GBK')"
   ]
  },
  {
   "cell_type": "markdown",
   "metadata": {},
   "source": [
    "比对日期，只保留共有的日期"
   ]
  },
  {
   "cell_type": "code",
   "execution_count": null,
   "metadata": {},
   "outputs": [],
   "source": []
  },
  {
   "cell_type": "code",
   "execution_count": null,
   "metadata": {},
   "outputs": [],
   "source": []
  },
  {
   "cell_type": "code",
   "execution_count": null,
   "metadata": {},
   "outputs": [],
   "source": []
  }
 ],
 "metadata": {
  "interpreter": {
   "hash": "42d6ad2300f95fe0c7f6a60c12c48647e2bcd2586845f44744679f29e9c833c5"
  },
  "kernelspec": {
   "display_name": "Python 3.10.0 64-bit",
   "language": "python",
   "name": "python3"
  },
  "language_info": {
   "codemirror_mode": {
    "name": "ipython",
    "version": 3
   },
   "file_extension": ".py",
   "mimetype": "text/x-python",
   "name": "python",
   "nbconvert_exporter": "python",
   "pygments_lexer": "ipython3",
   "version": "3.10.0"
  },
  "orig_nbformat": 4
 },
 "nbformat": 4,
 "nbformat_minor": 2
}
