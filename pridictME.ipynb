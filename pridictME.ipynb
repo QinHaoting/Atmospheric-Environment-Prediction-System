{
 "cells": [
  {
   "cell_type": "code",
   "execution_count": 1,
   "metadata": {},
   "outputs": [],
   "source": [
    "%matplotlib inline\n",
    "import matplotlib.pyplot as plt\n",
    "import numpy as np\n",
    "import pandas as pd\n",
    "import random\n",
    "from math import *\n",
    "import csv\n",
    "import datetime\n",
    "from sklearn.preprocessing import LabelEncoder\n",
    "from sklearn.preprocessing import MinMaxScaler\n",
    "from pandas import concat\n",
    "from pandas import DataFrame\n",
    "\n",
    "from math import sqrt\n",
    "from numpy import concatenate\n",
    "\n",
    "\n",
    "from sklearn.preprocessing import MinMaxScaler\n",
    "from sklearn.preprocessing import LabelEncoder\n",
    "from sklearn.metrics import mean_squared_error\n",
    "from keras.models import Sequential\n",
    "from keras.layers import Dense\n",
    "from keras.layers import LSTM"
   ]
  },
  {
   "cell_type": "code",
   "execution_count": 2,
   "metadata": {},
   "outputs": [],
   "source": [
    "def series_to_supervised(data, n_in=1, n_out=1, dropnan=True):\n",
    "\tn_vars = 1 if type(data) is list else data.shape[1]\n",
    "\tdf = DataFrame(data)\n",
    "\tcols, names = list(), list()\n",
    "\t# input sequence (t-n, ... t-1)\n",
    "\tfor i in range(n_in, 0, -1):\n",
    "\t\tcols.append(df.shift(i))\n",
    "\t\tnames += [('var%d(t-%d)' % (j+1, i)) for j in range(n_vars)]\n",
    "\t# forecast sequence (t, t+1, ... t+n)\n",
    "\tfor i in range(0, n_out):\n",
    "\t\tcols.append(df.shift(-i))\n",
    "\t\tif i == 0:\n",
    "\t\t\tnames += [('var%d(t)' % (j+1)) for j in range(n_vars)]\n",
    "\t\telse:\n",
    "\t\t\tnames += [('var%d(t+%d)' % (j+1, i)) for j in range(n_vars)]\n",
    "\t# put it all together\n",
    "\tagg = concat(cols, axis=1)\n",
    "\tagg.columns = names\n",
    "\t# drop rows with NaN values\n",
    "\tif dropnan:\n",
    "\t\tagg.dropna(inplace=True)\n",
    "\treturn agg"
   ]
  },
  {
   "cell_type": "code",
   "execution_count": 3,
   "metadata": {},
   "outputs": [
    {
     "ename": "FileNotFoundError",
     "evalue": "[Errno 2] No such file or directory: 'project\\\\data\\\\ME_data_new.csv'",
     "output_type": "error",
     "traceback": [
      "\u001b[1;31m---------------------------------------------------------------------------\u001b[0m",
      "\u001b[1;31mFileNotFoundError\u001b[0m                         Traceback (most recent call last)",
      "\u001b[1;32mc:\\Users\\LEGION\\Documents\\GitHub\\Atmospheric-Environment-Prediction-System\\pridictME.ipynb Cell 3'\u001b[0m in \u001b[0;36m<cell line: 2>\u001b[1;34m()\u001b[0m\n\u001b[0;32m      <a href='vscode-notebook-cell:/c%3A/Users/LEGION/Documents/GitHub/Atmospheric-Environment-Prediction-System/pridictME.ipynb#ch0000002?line=0'>1</a>\u001b[0m dataPath \u001b[39m=\u001b[39m \u001b[39m\"\u001b[39m\u001b[39mproject\u001b[39m\u001b[39m\\\u001b[39m\u001b[39mdata\u001b[39m\u001b[39m\\\u001b[39m\u001b[39mME_data_new.csv\u001b[39m\u001b[39m\"\u001b[39m\n\u001b[1;32m----> <a href='vscode-notebook-cell:/c%3A/Users/LEGION/Documents/GitHub/Atmospheric-Environment-Prediction-System/pridictME.ipynb#ch0000002?line=1'>2</a>\u001b[0m data \u001b[39m=\u001b[39m pd\u001b[39m.\u001b[39;49mread_csv(dataPath)\n\u001b[0;32m      <a href='vscode-notebook-cell:/c%3A/Users/LEGION/Documents/GitHub/Atmospheric-Environment-Prediction-System/pridictME.ipynb#ch0000002?line=2'>3</a>\u001b[0m data\u001b[39m=\u001b[39mdata\u001b[39m.\u001b[39miloc[:,\u001b[39m2\u001b[39m:\u001b[39m6\u001b[39m]\n\u001b[0;32m      <a href='vscode-notebook-cell:/c%3A/Users/LEGION/Documents/GitHub/Atmospheric-Environment-Prediction-System/pridictME.ipynb#ch0000002?line=3'>4</a>\u001b[0m data\u001b[39m=\u001b[39mdata\u001b[39m.\u001b[39mdrop(columns\u001b[39m=\u001b[39m[\u001b[39m\"\u001b[39m\u001b[39mWindDirection\u001b[39m\u001b[39m\"\u001b[39m])\n",
      "File \u001b[1;32m~\\AppData\\Local\\Programs\\Python\\Python310\\lib\\site-packages\\pandas\\util\\_decorators.py:311\u001b[0m, in \u001b[0;36mdeprecate_nonkeyword_arguments.<locals>.decorate.<locals>.wrapper\u001b[1;34m(*args, **kwargs)\u001b[0m\n\u001b[0;32m    <a href='file:///c%3A/Users/LEGION/AppData/Local/Programs/Python/Python310/lib/site-packages/pandas/util/_decorators.py?line=304'>305</a>\u001b[0m \u001b[39mif\u001b[39;00m \u001b[39mlen\u001b[39m(args) \u001b[39m>\u001b[39m num_allow_args:\n\u001b[0;32m    <a href='file:///c%3A/Users/LEGION/AppData/Local/Programs/Python/Python310/lib/site-packages/pandas/util/_decorators.py?line=305'>306</a>\u001b[0m     warnings\u001b[39m.\u001b[39mwarn(\n\u001b[0;32m    <a href='file:///c%3A/Users/LEGION/AppData/Local/Programs/Python/Python310/lib/site-packages/pandas/util/_decorators.py?line=306'>307</a>\u001b[0m         msg\u001b[39m.\u001b[39mformat(arguments\u001b[39m=\u001b[39marguments),\n\u001b[0;32m    <a href='file:///c%3A/Users/LEGION/AppData/Local/Programs/Python/Python310/lib/site-packages/pandas/util/_decorators.py?line=307'>308</a>\u001b[0m         \u001b[39mFutureWarning\u001b[39;00m,\n\u001b[0;32m    <a href='file:///c%3A/Users/LEGION/AppData/Local/Programs/Python/Python310/lib/site-packages/pandas/util/_decorators.py?line=308'>309</a>\u001b[0m         stacklevel\u001b[39m=\u001b[39mstacklevel,\n\u001b[0;32m    <a href='file:///c%3A/Users/LEGION/AppData/Local/Programs/Python/Python310/lib/site-packages/pandas/util/_decorators.py?line=309'>310</a>\u001b[0m     )\n\u001b[1;32m--> <a href='file:///c%3A/Users/LEGION/AppData/Local/Programs/Python/Python310/lib/site-packages/pandas/util/_decorators.py?line=310'>311</a>\u001b[0m \u001b[39mreturn\u001b[39;00m func(\u001b[39m*\u001b[39margs, \u001b[39m*\u001b[39m\u001b[39m*\u001b[39mkwargs)\n",
      "File \u001b[1;32m~\\AppData\\Local\\Programs\\Python\\Python310\\lib\\site-packages\\pandas\\io\\parsers\\readers.py:680\u001b[0m, in \u001b[0;36mread_csv\u001b[1;34m(filepath_or_buffer, sep, delimiter, header, names, index_col, usecols, squeeze, prefix, mangle_dupe_cols, dtype, engine, converters, true_values, false_values, skipinitialspace, skiprows, skipfooter, nrows, na_values, keep_default_na, na_filter, verbose, skip_blank_lines, parse_dates, infer_datetime_format, keep_date_col, date_parser, dayfirst, cache_dates, iterator, chunksize, compression, thousands, decimal, lineterminator, quotechar, quoting, doublequote, escapechar, comment, encoding, encoding_errors, dialect, error_bad_lines, warn_bad_lines, on_bad_lines, delim_whitespace, low_memory, memory_map, float_precision, storage_options)\u001b[0m\n\u001b[0;32m    <a href='file:///c%3A/Users/LEGION/AppData/Local/Programs/Python/Python310/lib/site-packages/pandas/io/parsers/readers.py?line=664'>665</a>\u001b[0m kwds_defaults \u001b[39m=\u001b[39m _refine_defaults_read(\n\u001b[0;32m    <a href='file:///c%3A/Users/LEGION/AppData/Local/Programs/Python/Python310/lib/site-packages/pandas/io/parsers/readers.py?line=665'>666</a>\u001b[0m     dialect,\n\u001b[0;32m    <a href='file:///c%3A/Users/LEGION/AppData/Local/Programs/Python/Python310/lib/site-packages/pandas/io/parsers/readers.py?line=666'>667</a>\u001b[0m     delimiter,\n\u001b[1;32m   (...)\u001b[0m\n\u001b[0;32m    <a href='file:///c%3A/Users/LEGION/AppData/Local/Programs/Python/Python310/lib/site-packages/pandas/io/parsers/readers.py?line=675'>676</a>\u001b[0m     defaults\u001b[39m=\u001b[39m{\u001b[39m\"\u001b[39m\u001b[39mdelimiter\u001b[39m\u001b[39m\"\u001b[39m: \u001b[39m\"\u001b[39m\u001b[39m,\u001b[39m\u001b[39m\"\u001b[39m},\n\u001b[0;32m    <a href='file:///c%3A/Users/LEGION/AppData/Local/Programs/Python/Python310/lib/site-packages/pandas/io/parsers/readers.py?line=676'>677</a>\u001b[0m )\n\u001b[0;32m    <a href='file:///c%3A/Users/LEGION/AppData/Local/Programs/Python/Python310/lib/site-packages/pandas/io/parsers/readers.py?line=677'>678</a>\u001b[0m kwds\u001b[39m.\u001b[39mupdate(kwds_defaults)\n\u001b[1;32m--> <a href='file:///c%3A/Users/LEGION/AppData/Local/Programs/Python/Python310/lib/site-packages/pandas/io/parsers/readers.py?line=679'>680</a>\u001b[0m \u001b[39mreturn\u001b[39;00m _read(filepath_or_buffer, kwds)\n",
      "File \u001b[1;32m~\\AppData\\Local\\Programs\\Python\\Python310\\lib\\site-packages\\pandas\\io\\parsers\\readers.py:575\u001b[0m, in \u001b[0;36m_read\u001b[1;34m(filepath_or_buffer, kwds)\u001b[0m\n\u001b[0;32m    <a href='file:///c%3A/Users/LEGION/AppData/Local/Programs/Python/Python310/lib/site-packages/pandas/io/parsers/readers.py?line=571'>572</a>\u001b[0m _validate_names(kwds\u001b[39m.\u001b[39mget(\u001b[39m\"\u001b[39m\u001b[39mnames\u001b[39m\u001b[39m\"\u001b[39m, \u001b[39mNone\u001b[39;00m))\n\u001b[0;32m    <a href='file:///c%3A/Users/LEGION/AppData/Local/Programs/Python/Python310/lib/site-packages/pandas/io/parsers/readers.py?line=573'>574</a>\u001b[0m \u001b[39m# Create the parser.\u001b[39;00m\n\u001b[1;32m--> <a href='file:///c%3A/Users/LEGION/AppData/Local/Programs/Python/Python310/lib/site-packages/pandas/io/parsers/readers.py?line=574'>575</a>\u001b[0m parser \u001b[39m=\u001b[39m TextFileReader(filepath_or_buffer, \u001b[39m*\u001b[39m\u001b[39m*\u001b[39mkwds)\n\u001b[0;32m    <a href='file:///c%3A/Users/LEGION/AppData/Local/Programs/Python/Python310/lib/site-packages/pandas/io/parsers/readers.py?line=576'>577</a>\u001b[0m \u001b[39mif\u001b[39;00m chunksize \u001b[39mor\u001b[39;00m iterator:\n\u001b[0;32m    <a href='file:///c%3A/Users/LEGION/AppData/Local/Programs/Python/Python310/lib/site-packages/pandas/io/parsers/readers.py?line=577'>578</a>\u001b[0m     \u001b[39mreturn\u001b[39;00m parser\n",
      "File \u001b[1;32m~\\AppData\\Local\\Programs\\Python\\Python310\\lib\\site-packages\\pandas\\io\\parsers\\readers.py:933\u001b[0m, in \u001b[0;36mTextFileReader.__init__\u001b[1;34m(self, f, engine, **kwds)\u001b[0m\n\u001b[0;32m    <a href='file:///c%3A/Users/LEGION/AppData/Local/Programs/Python/Python310/lib/site-packages/pandas/io/parsers/readers.py?line=929'>930</a>\u001b[0m     \u001b[39mself\u001b[39m\u001b[39m.\u001b[39moptions[\u001b[39m\"\u001b[39m\u001b[39mhas_index_names\u001b[39m\u001b[39m\"\u001b[39m] \u001b[39m=\u001b[39m kwds[\u001b[39m\"\u001b[39m\u001b[39mhas_index_names\u001b[39m\u001b[39m\"\u001b[39m]\n\u001b[0;32m    <a href='file:///c%3A/Users/LEGION/AppData/Local/Programs/Python/Python310/lib/site-packages/pandas/io/parsers/readers.py?line=931'>932</a>\u001b[0m \u001b[39mself\u001b[39m\u001b[39m.\u001b[39mhandles: IOHandles \u001b[39m|\u001b[39m \u001b[39mNone\u001b[39;00m \u001b[39m=\u001b[39m \u001b[39mNone\u001b[39;00m\n\u001b[1;32m--> <a href='file:///c%3A/Users/LEGION/AppData/Local/Programs/Python/Python310/lib/site-packages/pandas/io/parsers/readers.py?line=932'>933</a>\u001b[0m \u001b[39mself\u001b[39m\u001b[39m.\u001b[39m_engine \u001b[39m=\u001b[39m \u001b[39mself\u001b[39;49m\u001b[39m.\u001b[39;49m_make_engine(f, \u001b[39mself\u001b[39;49m\u001b[39m.\u001b[39;49mengine)\n",
      "File \u001b[1;32m~\\AppData\\Local\\Programs\\Python\\Python310\\lib\\site-packages\\pandas\\io\\parsers\\readers.py:1217\u001b[0m, in \u001b[0;36mTextFileReader._make_engine\u001b[1;34m(self, f, engine)\u001b[0m\n\u001b[0;32m   <a href='file:///c%3A/Users/LEGION/AppData/Local/Programs/Python/Python310/lib/site-packages/pandas/io/parsers/readers.py?line=1212'>1213</a>\u001b[0m     mode \u001b[39m=\u001b[39m \u001b[39m\"\u001b[39m\u001b[39mrb\u001b[39m\u001b[39m\"\u001b[39m\n\u001b[0;32m   <a href='file:///c%3A/Users/LEGION/AppData/Local/Programs/Python/Python310/lib/site-packages/pandas/io/parsers/readers.py?line=1213'>1214</a>\u001b[0m \u001b[39m# error: No overload variant of \"get_handle\" matches argument types\u001b[39;00m\n\u001b[0;32m   <a href='file:///c%3A/Users/LEGION/AppData/Local/Programs/Python/Python310/lib/site-packages/pandas/io/parsers/readers.py?line=1214'>1215</a>\u001b[0m \u001b[39m# \"Union[str, PathLike[str], ReadCsvBuffer[bytes], ReadCsvBuffer[str]]\"\u001b[39;00m\n\u001b[0;32m   <a href='file:///c%3A/Users/LEGION/AppData/Local/Programs/Python/Python310/lib/site-packages/pandas/io/parsers/readers.py?line=1215'>1216</a>\u001b[0m \u001b[39m# , \"str\", \"bool\", \"Any\", \"Any\", \"Any\", \"Any\", \"Any\"\u001b[39;00m\n\u001b[1;32m-> <a href='file:///c%3A/Users/LEGION/AppData/Local/Programs/Python/Python310/lib/site-packages/pandas/io/parsers/readers.py?line=1216'>1217</a>\u001b[0m \u001b[39mself\u001b[39m\u001b[39m.\u001b[39mhandles \u001b[39m=\u001b[39m get_handle(  \u001b[39m# type: ignore[call-overload]\u001b[39;49;00m\n\u001b[0;32m   <a href='file:///c%3A/Users/LEGION/AppData/Local/Programs/Python/Python310/lib/site-packages/pandas/io/parsers/readers.py?line=1217'>1218</a>\u001b[0m     f,\n\u001b[0;32m   <a href='file:///c%3A/Users/LEGION/AppData/Local/Programs/Python/Python310/lib/site-packages/pandas/io/parsers/readers.py?line=1218'>1219</a>\u001b[0m     mode,\n\u001b[0;32m   <a href='file:///c%3A/Users/LEGION/AppData/Local/Programs/Python/Python310/lib/site-packages/pandas/io/parsers/readers.py?line=1219'>1220</a>\u001b[0m     encoding\u001b[39m=\u001b[39;49m\u001b[39mself\u001b[39;49m\u001b[39m.\u001b[39;49moptions\u001b[39m.\u001b[39;49mget(\u001b[39m\"\u001b[39;49m\u001b[39mencoding\u001b[39;49m\u001b[39m\"\u001b[39;49m, \u001b[39mNone\u001b[39;49;00m),\n\u001b[0;32m   <a href='file:///c%3A/Users/LEGION/AppData/Local/Programs/Python/Python310/lib/site-packages/pandas/io/parsers/readers.py?line=1220'>1221</a>\u001b[0m     compression\u001b[39m=\u001b[39;49m\u001b[39mself\u001b[39;49m\u001b[39m.\u001b[39;49moptions\u001b[39m.\u001b[39;49mget(\u001b[39m\"\u001b[39;49m\u001b[39mcompression\u001b[39;49m\u001b[39m\"\u001b[39;49m, \u001b[39mNone\u001b[39;49;00m),\n\u001b[0;32m   <a href='file:///c%3A/Users/LEGION/AppData/Local/Programs/Python/Python310/lib/site-packages/pandas/io/parsers/readers.py?line=1221'>1222</a>\u001b[0m     memory_map\u001b[39m=\u001b[39;49m\u001b[39mself\u001b[39;49m\u001b[39m.\u001b[39;49moptions\u001b[39m.\u001b[39;49mget(\u001b[39m\"\u001b[39;49m\u001b[39mmemory_map\u001b[39;49m\u001b[39m\"\u001b[39;49m, \u001b[39mFalse\u001b[39;49;00m),\n\u001b[0;32m   <a href='file:///c%3A/Users/LEGION/AppData/Local/Programs/Python/Python310/lib/site-packages/pandas/io/parsers/readers.py?line=1222'>1223</a>\u001b[0m     is_text\u001b[39m=\u001b[39;49mis_text,\n\u001b[0;32m   <a href='file:///c%3A/Users/LEGION/AppData/Local/Programs/Python/Python310/lib/site-packages/pandas/io/parsers/readers.py?line=1223'>1224</a>\u001b[0m     errors\u001b[39m=\u001b[39;49m\u001b[39mself\u001b[39;49m\u001b[39m.\u001b[39;49moptions\u001b[39m.\u001b[39;49mget(\u001b[39m\"\u001b[39;49m\u001b[39mencoding_errors\u001b[39;49m\u001b[39m\"\u001b[39;49m, \u001b[39m\"\u001b[39;49m\u001b[39mstrict\u001b[39;49m\u001b[39m\"\u001b[39;49m),\n\u001b[0;32m   <a href='file:///c%3A/Users/LEGION/AppData/Local/Programs/Python/Python310/lib/site-packages/pandas/io/parsers/readers.py?line=1224'>1225</a>\u001b[0m     storage_options\u001b[39m=\u001b[39;49m\u001b[39mself\u001b[39;49m\u001b[39m.\u001b[39;49moptions\u001b[39m.\u001b[39;49mget(\u001b[39m\"\u001b[39;49m\u001b[39mstorage_options\u001b[39;49m\u001b[39m\"\u001b[39;49m, \u001b[39mNone\u001b[39;49;00m),\n\u001b[0;32m   <a href='file:///c%3A/Users/LEGION/AppData/Local/Programs/Python/Python310/lib/site-packages/pandas/io/parsers/readers.py?line=1225'>1226</a>\u001b[0m )\n\u001b[0;32m   <a href='file:///c%3A/Users/LEGION/AppData/Local/Programs/Python/Python310/lib/site-packages/pandas/io/parsers/readers.py?line=1226'>1227</a>\u001b[0m \u001b[39massert\u001b[39;00m \u001b[39mself\u001b[39m\u001b[39m.\u001b[39mhandles \u001b[39mis\u001b[39;00m \u001b[39mnot\u001b[39;00m \u001b[39mNone\u001b[39;00m\n\u001b[0;32m   <a href='file:///c%3A/Users/LEGION/AppData/Local/Programs/Python/Python310/lib/site-packages/pandas/io/parsers/readers.py?line=1227'>1228</a>\u001b[0m f \u001b[39m=\u001b[39m \u001b[39mself\u001b[39m\u001b[39m.\u001b[39mhandles\u001b[39m.\u001b[39mhandle\n",
      "File \u001b[1;32m~\\AppData\\Local\\Programs\\Python\\Python310\\lib\\site-packages\\pandas\\io\\common.py:789\u001b[0m, in \u001b[0;36mget_handle\u001b[1;34m(path_or_buf, mode, encoding, compression, memory_map, is_text, errors, storage_options)\u001b[0m\n\u001b[0;32m    <a href='file:///c%3A/Users/LEGION/AppData/Local/Programs/Python/Python310/lib/site-packages/pandas/io/common.py?line=783'>784</a>\u001b[0m \u001b[39melif\u001b[39;00m \u001b[39misinstance\u001b[39m(handle, \u001b[39mstr\u001b[39m):\n\u001b[0;32m    <a href='file:///c%3A/Users/LEGION/AppData/Local/Programs/Python/Python310/lib/site-packages/pandas/io/common.py?line=784'>785</a>\u001b[0m     \u001b[39m# Check whether the filename is to be opened in binary mode.\u001b[39;00m\n\u001b[0;32m    <a href='file:///c%3A/Users/LEGION/AppData/Local/Programs/Python/Python310/lib/site-packages/pandas/io/common.py?line=785'>786</a>\u001b[0m     \u001b[39m# Binary mode does not support 'encoding' and 'newline'.\u001b[39;00m\n\u001b[0;32m    <a href='file:///c%3A/Users/LEGION/AppData/Local/Programs/Python/Python310/lib/site-packages/pandas/io/common.py?line=786'>787</a>\u001b[0m     \u001b[39mif\u001b[39;00m ioargs\u001b[39m.\u001b[39mencoding \u001b[39mand\u001b[39;00m \u001b[39m\"\u001b[39m\u001b[39mb\u001b[39m\u001b[39m\"\u001b[39m \u001b[39mnot\u001b[39;00m \u001b[39min\u001b[39;00m ioargs\u001b[39m.\u001b[39mmode:\n\u001b[0;32m    <a href='file:///c%3A/Users/LEGION/AppData/Local/Programs/Python/Python310/lib/site-packages/pandas/io/common.py?line=787'>788</a>\u001b[0m         \u001b[39m# Encoding\u001b[39;00m\n\u001b[1;32m--> <a href='file:///c%3A/Users/LEGION/AppData/Local/Programs/Python/Python310/lib/site-packages/pandas/io/common.py?line=788'>789</a>\u001b[0m         handle \u001b[39m=\u001b[39m \u001b[39mopen\u001b[39;49m(\n\u001b[0;32m    <a href='file:///c%3A/Users/LEGION/AppData/Local/Programs/Python/Python310/lib/site-packages/pandas/io/common.py?line=789'>790</a>\u001b[0m             handle,\n\u001b[0;32m    <a href='file:///c%3A/Users/LEGION/AppData/Local/Programs/Python/Python310/lib/site-packages/pandas/io/common.py?line=790'>791</a>\u001b[0m             ioargs\u001b[39m.\u001b[39;49mmode,\n\u001b[0;32m    <a href='file:///c%3A/Users/LEGION/AppData/Local/Programs/Python/Python310/lib/site-packages/pandas/io/common.py?line=791'>792</a>\u001b[0m             encoding\u001b[39m=\u001b[39;49mioargs\u001b[39m.\u001b[39;49mencoding,\n\u001b[0;32m    <a href='file:///c%3A/Users/LEGION/AppData/Local/Programs/Python/Python310/lib/site-packages/pandas/io/common.py?line=792'>793</a>\u001b[0m             errors\u001b[39m=\u001b[39;49merrors,\n\u001b[0;32m    <a href='file:///c%3A/Users/LEGION/AppData/Local/Programs/Python/Python310/lib/site-packages/pandas/io/common.py?line=793'>794</a>\u001b[0m             newline\u001b[39m=\u001b[39;49m\u001b[39m\"\u001b[39;49m\u001b[39m\"\u001b[39;49m,\n\u001b[0;32m    <a href='file:///c%3A/Users/LEGION/AppData/Local/Programs/Python/Python310/lib/site-packages/pandas/io/common.py?line=794'>795</a>\u001b[0m         )\n\u001b[0;32m    <a href='file:///c%3A/Users/LEGION/AppData/Local/Programs/Python/Python310/lib/site-packages/pandas/io/common.py?line=795'>796</a>\u001b[0m     \u001b[39melse\u001b[39;00m:\n\u001b[0;32m    <a href='file:///c%3A/Users/LEGION/AppData/Local/Programs/Python/Python310/lib/site-packages/pandas/io/common.py?line=796'>797</a>\u001b[0m         \u001b[39m# Binary mode\u001b[39;00m\n\u001b[0;32m    <a href='file:///c%3A/Users/LEGION/AppData/Local/Programs/Python/Python310/lib/site-packages/pandas/io/common.py?line=797'>798</a>\u001b[0m         handle \u001b[39m=\u001b[39m \u001b[39mopen\u001b[39m(handle, ioargs\u001b[39m.\u001b[39mmode)\n",
      "\u001b[1;31mFileNotFoundError\u001b[0m: [Errno 2] No such file or directory: 'project\\\\data\\\\ME_data_new.csv'"
     ]
    }
   ],
   "source": [
    "dataPath = \"project\\data\\ME_data_new.csv\"\n",
    "data = pd.read_csv(dataPath)\n",
    "data=data.iloc[:,2:6]\n",
    "data=data.drop(columns=[\"WindDirection\"])\n",
    "# encoder1 = LabelEncoder()\n",
    "# values1=data.iloc[:,2]\n",
    "# values1 = encoder1.fit_transform(values1)\n",
    "# # values1 = encoder1.inverse_transform(values1)\n",
    "# # encoder2 = LabelEncoder()\n",
    "# # values2=data.iloc[:,4]\n",
    "# # values2 = encoder2.fit_transform(values2)\n",
    "# # values2 = encoder2.inverse_transform(values2)\n",
    "# data['WindDirection']=values1\n",
    "# # data['Weather']=values2\n",
    "scaler = MinMaxScaler(feature_range=(0, 1))\n",
    "scaled = scaler.fit_transform(data)\n",
    "reframed = series_to_supervised(scaled, 1, 1)\n",
    "reframed"
   ]
  },
  {
   "cell_type": "code",
   "execution_count": null,
   "metadata": {},
   "outputs": [
    {
     "name": "stdout",
     "output_type": "stream",
     "text": [
      "(1825, 1, 3) (1825, 3) (972, 1, 3) (972, 3)\n"
     ]
    }
   ],
   "source": [
    "values = reframed.values\n",
    "n_train_hours = 365*5\n",
    "train = values[:n_train_hours, :]\n",
    "test = values[n_train_hours:, :]\n",
    "# split into input and outputs\n",
    "train_X, train_y = train[:, :-3], train[:, -3:]  \n",
    "test_X, test_y = test[:, :-3], test[:, -3:]\n",
    "# reshape input to be 3D [samples, timesteps, features]\n",
    "train_X = train_X.reshape((train_X.shape[0], 1, train_X.shape[1]))\n",
    "test_X = test_X.reshape((test_X.shape[0], 1, test_X.shape[1]))\n",
    "print(train_X.shape, train_y.shape, test_X.shape, test_y.shape)"
   ]
  },
  {
   "cell_type": "code",
   "execution_count": null,
   "metadata": {},
   "outputs": [
    {
     "name": "stdout",
     "output_type": "stream",
     "text": [
      "Epoch 1/50\n",
      "37/37 - 3s - loss: 0.3103 - val_loss: 0.2239 - 3s/epoch - 78ms/step\n",
      "Epoch 2/50\n",
      "37/37 - 0s - loss: 0.1661 - val_loss: 0.1095 - 162ms/epoch - 4ms/step\n",
      "Epoch 3/50\n",
      "37/37 - 0s - loss: 0.1067 - val_loss: 0.0988 - 161ms/epoch - 4ms/step\n",
      "Epoch 4/50\n",
      "37/37 - 0s - loss: 0.0993 - val_loss: 0.0923 - 155ms/epoch - 4ms/step\n",
      "Epoch 5/50\n",
      "37/37 - 0s - loss: 0.0927 - val_loss: 0.0867 - 152ms/epoch - 4ms/step\n",
      "Epoch 6/50\n",
      "37/37 - 0s - loss: 0.0862 - val_loss: 0.0813 - 156ms/epoch - 4ms/step\n",
      "Epoch 7/50\n",
      "37/37 - 0s - loss: 0.0802 - val_loss: 0.0765 - 160ms/epoch - 4ms/step\n",
      "Epoch 8/50\n",
      "37/37 - 0s - loss: 0.0753 - val_loss: 0.0732 - 156ms/epoch - 4ms/step\n",
      "Epoch 9/50\n",
      "37/37 - 0s - loss: 0.0720 - val_loss: 0.0718 - 199ms/epoch - 5ms/step\n",
      "Epoch 10/50\n",
      "37/37 - 0s - loss: 0.0704 - val_loss: 0.0712 - 160ms/epoch - 4ms/step\n",
      "Epoch 11/50\n",
      "37/37 - 0s - loss: 0.0698 - val_loss: 0.0709 - 149ms/epoch - 4ms/step\n",
      "Epoch 12/50\n",
      "37/37 - 0s - loss: 0.0697 - val_loss: 0.0707 - 146ms/epoch - 4ms/step\n",
      "Epoch 13/50\n",
      "37/37 - 0s - loss: 0.0696 - val_loss: 0.0706 - 164ms/epoch - 4ms/step\n",
      "Epoch 14/50\n",
      "37/37 - 0s - loss: 0.0695 - val_loss: 0.0706 - 153ms/epoch - 4ms/step\n",
      "Epoch 15/50\n",
      "37/37 - 0s - loss: 0.0694 - val_loss: 0.0706 - 153ms/epoch - 4ms/step\n",
      "Epoch 16/50\n",
      "37/37 - 0s - loss: 0.0694 - val_loss: 0.0705 - 164ms/epoch - 4ms/step\n",
      "Epoch 17/50\n",
      "37/37 - 0s - loss: 0.0693 - val_loss: 0.0704 - 152ms/epoch - 4ms/step\n",
      "Epoch 18/50\n",
      "37/37 - 0s - loss: 0.0693 - val_loss: 0.0704 - 148ms/epoch - 4ms/step\n",
      "Epoch 19/50\n",
      "37/37 - 0s - loss: 0.0692 - val_loss: 0.0703 - 146ms/epoch - 4ms/step\n",
      "Epoch 20/50\n",
      "37/37 - 0s - loss: 0.0692 - val_loss: 0.0703 - 231ms/epoch - 6ms/step\n",
      "Epoch 21/50\n",
      "37/37 - 0s - loss: 0.0691 - val_loss: 0.0703 - 147ms/epoch - 4ms/step\n",
      "Epoch 22/50\n",
      "37/37 - 0s - loss: 0.0691 - val_loss: 0.0702 - 145ms/epoch - 4ms/step\n",
      "Epoch 23/50\n",
      "37/37 - 0s - loss: 0.0690 - val_loss: 0.0701 - 139ms/epoch - 4ms/step\n",
      "Epoch 24/50\n",
      "37/37 - 0s - loss: 0.0690 - val_loss: 0.0701 - 147ms/epoch - 4ms/step\n",
      "Epoch 25/50\n",
      "37/37 - 0s - loss: 0.0689 - val_loss: 0.0701 - 148ms/epoch - 4ms/step\n",
      "Epoch 26/50\n",
      "37/37 - 0s - loss: 0.0689 - val_loss: 0.0700 - 163ms/epoch - 4ms/step\n",
      "Epoch 27/50\n",
      "37/37 - 0s - loss: 0.0688 - val_loss: 0.0699 - 147ms/epoch - 4ms/step\n",
      "Epoch 28/50\n",
      "37/37 - 0s - loss: 0.0687 - val_loss: 0.0699 - 152ms/epoch - 4ms/step\n",
      "Epoch 29/50\n",
      "37/37 - 0s - loss: 0.0687 - val_loss: 0.0699 - 149ms/epoch - 4ms/step\n",
      "Epoch 30/50\n",
      "37/37 - 0s - loss: 0.0686 - val_loss: 0.0698 - 148ms/epoch - 4ms/step\n",
      "Epoch 31/50\n",
      "37/37 - 0s - loss: 0.0686 - val_loss: 0.0697 - 147ms/epoch - 4ms/step\n",
      "Epoch 32/50\n",
      "37/37 - 0s - loss: 0.0685 - val_loss: 0.0697 - 150ms/epoch - 4ms/step\n",
      "Epoch 33/50\n",
      "37/37 - 0s - loss: 0.0685 - val_loss: 0.0697 - 155ms/epoch - 4ms/step\n",
      "Epoch 34/50\n",
      "37/37 - 0s - loss: 0.0684 - val_loss: 0.0697 - 144ms/epoch - 4ms/step\n",
      "Epoch 35/50\n",
      "37/37 - 0s - loss: 0.0684 - val_loss: 0.0696 - 144ms/epoch - 4ms/step\n",
      "Epoch 36/50\n",
      "37/37 - 0s - loss: 0.0683 - val_loss: 0.0695 - 148ms/epoch - 4ms/step\n",
      "Epoch 37/50\n",
      "37/37 - 0s - loss: 0.0683 - val_loss: 0.0695 - 146ms/epoch - 4ms/step\n",
      "Epoch 38/50\n",
      "37/37 - 0s - loss: 0.0682 - val_loss: 0.0694 - 147ms/epoch - 4ms/step\n",
      "Epoch 39/50\n",
      "37/37 - 0s - loss: 0.0682 - val_loss: 0.0694 - 149ms/epoch - 4ms/step\n",
      "Epoch 40/50\n",
      "37/37 - 0s - loss: 0.0681 - val_loss: 0.0693 - 155ms/epoch - 4ms/step\n",
      "Epoch 41/50\n",
      "37/37 - 0s - loss: 0.0681 - val_loss: 0.0692 - 141ms/epoch - 4ms/step\n",
      "Epoch 42/50\n",
      "37/37 - 0s - loss: 0.0680 - val_loss: 0.0691 - 146ms/epoch - 4ms/step\n",
      "Epoch 43/50\n",
      "37/37 - 0s - loss: 0.0680 - val_loss: 0.0691 - 145ms/epoch - 4ms/step\n",
      "Epoch 44/50\n",
      "37/37 - 0s - loss: 0.0679 - val_loss: 0.0690 - 153ms/epoch - 4ms/step\n",
      "Epoch 45/50\n",
      "37/37 - 0s - loss: 0.0679 - val_loss: 0.0691 - 141ms/epoch - 4ms/step\n",
      "Epoch 46/50\n",
      "37/37 - 0s - loss: 0.0679 - val_loss: 0.0689 - 160ms/epoch - 4ms/step\n",
      "Epoch 47/50\n",
      "37/37 - 0s - loss: 0.0678 - val_loss: 0.0689 - 142ms/epoch - 4ms/step\n",
      "Epoch 48/50\n",
      "37/37 - 0s - loss: 0.0678 - val_loss: 0.0689 - 150ms/epoch - 4ms/step\n",
      "Epoch 49/50\n",
      "37/37 - 0s - loss: 0.0678 - val_loss: 0.0688 - 151ms/epoch - 4ms/step\n",
      "Epoch 50/50\n",
      "37/37 - 0s - loss: 0.0677 - val_loss: 0.0688 - 146ms/epoch - 4ms/step\n"
     ]
    },
    {
     "data": {
      "image/png": "[encoded data removed]",
      "text/plain": [
       "<Figure size 432x288 with 1 Axes>"
      ]
     },
     "metadata": {
      "needs_background": "light"
     },
     "output_type": "display_data"
    },
    {
     "name": "stdout",
     "output_type": "stream",
     "text": [
      "Test RMSE: 16.396\n"
     ]
    },
    {
     "data": {
      "text/plain": [
       "array([[ 6.9060802,  2.960184 ,  1.7360846],\n",
       "       [ 7.545146 ,  4.128962 ,  1.6859936],\n",
       "       [ 9.257312 ,  5.6121664,  1.2302024],\n",
       "       ...,\n",
       "       [21.436058 , 17.144722 ,  1.6439989],\n",
       "       [22.982754 , 17.725645 ,  1.5409348],\n",
       "       [30.713839 , 22.261267 ,  1.5129097]], dtype=float32)"
      ]
     },
     "execution_count": 57,
     "metadata": {},
     "output_type": "execute_result"
    }
   ],
   "source": [
    "# design network\n",
    "model = Sequential()\n",
    "model.add(LSTM(50, input_shape=(train_X.shape[1], train_X.shape[2])))\n",
    "model.add(Dense(3))\n",
    "model.compile(loss='mae', optimizer='adam')\n",
    "# fit network\n",
    "history = model.fit(train_X, train_y, epochs=50, batch_size=50, validation_data=(test_X, test_y), verbose=2, shuffle=False)\n",
    "# plot history\n",
    "plt.plot(history.history['loss'], label='train')\n",
    "plt.plot(history.history['val_loss'], label='test')\n",
    "plt.legend()\n",
    "plt.show()\n",
    "# make a prediction\n",
    "yhat = model.predict(test_X)\n",
    "test_X = test_X.reshape((test_X.shape[0], test_X.shape[2]))\n",
    "yhat = scaler.inverse_transform(yhat)\n",
    "# calculate RMSE\n",
    "rmse = sqrt(mean_squared_error(test_X, yhat))\n",
    "print('Test RMSE: %.3f' % rmse)\n",
    "yhat"
   ]
  },
  {
   "cell_type": "code",
   "execution_count": null,
   "metadata": {},
   "outputs": [],
   "source": [
    "# PridictData=pd.DataFrame(yhat.astype('int64'))\n",
    "# values3=PridictData.iloc[:,2]\n",
    "# values3 = encoder1.inverse_transform(values3)\n",
    "# # values4=PridictData.iloc[:,4]\n",
    "# # values4 = encoder2.inverse_transform(values4)\n",
    "# print(values3)"
   ]
  }
 ],
 "metadata": {
  "interpreter": {
   "hash": "42d6ad2300f95fe0c7f6a60c12c48647e2bcd2586845f44744679f29e9c833c5"
  },
  "kernelspec": {
   "display_name": "Python 3.10.0 64-bit",
   "language": "python",
   "name": "python3"
  },
  "language_info": {
   "codemirror_mode": {
    "name": "ipython",
    "version": 3
   },
   "file_extension": ".py",
   "mimetype": "text/x-python",
   "name": "python",
   "nbconvert_exporter": "python",
   "pygments_lexer": "ipython3",
   "version": "3.10.0"
  },
  "orig_nbformat": 4
 },
 "nbformat": 4,
 "nbformat_minor": 2
}
